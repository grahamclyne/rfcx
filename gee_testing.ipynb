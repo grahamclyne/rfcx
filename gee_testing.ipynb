{
 "cells": [
  {
   "cell_type": "code",
   "execution_count": 203,
   "metadata": {},
   "outputs": [],
   "source": [
    "import ee\n",
    "import numpy as np\n",
    "import folium\n",
    "import geopandas as gpd\n",
    "import json\n",
    "from util import get_whole_region,shp_to_ee_fmt\n",
    "\n",
    "try:     \n",
    "    ee.Initialize()\n",
    "except:\n",
    "    ee.Authenticate()\n",
    "    ee.Initialize()"
   ]
  },
  {
   "cell_type": "code",
   "execution_count": 238,
   "metadata": {},
   "outputs": [
    {
     "data": {
      "text/plain": [
       "<ee.imagecollection.ImageCollection at 0x7fc4ac8fbbe0>"
      ]
     },
     "execution_count": 238,
     "metadata": {},
     "output_type": "execute_result"
    }
   ],
   "source": [
    "startDate = '2020-01-01';\n",
    "endDate = '2021-01-01';\n",
    "# shp_file = gpd.read_file('/home/graham/Downloads/RFCx_GQ_Shapefiles/Hulu_Batang_Hari_sites_Buffer1k.shp', crs='EPSG:4326')\n",
    "shp_file = gpd.read_file('/home/graham/Downloads/Bacajai_JP1.shp', crs='EPSG:4326')\n",
    "\n",
    "# region = get_whole_region(shp_file)\n",
    "\n",
    "region = ee.Geometry.Polygon(shp_to_ee_fmt(shp_file,0))\n",
    "dw = ee.ImageCollection('GOOGLE/DYNAMICWORLD/V1').filterDate(startDate, endDate).filterBounds(region);\n",
    "\n",
    "probabilityBands = [\n",
    "  'water', 'trees', 'grass', 'flooded_vegetation', 'crops', 'shrub_and_scrub',\n",
    "  'built', 'bare', 'snow_and_ice'\n",
    "];\n",
    "\n",
    "dwTimeSeries = dw.select(probabilityBands)\n",
    "dwTimeSeries"
   ]
  },
  {
   "cell_type": "code",
   "execution_count": 221,
   "metadata": {},
   "outputs": [],
   "source": [
    "from geetools import tools\n",
    "import json\n",
    "\n",
    "def getDataFromRegion(region):\n",
    "    dw = ee.ImageCollection('GOOGLE/DYNAMICWORLD/V1').filterDate(startDate, endDate).filterBounds(region);\n",
    "\n",
    "    probabilityBands = [\n",
    "    'water', 'trees', 'grass', 'flooded_vegetation', 'crops', 'shrub_and_scrub',\n",
    "    'built', 'bare', 'snow_and_ice'\n",
    "    ]\n",
    "\n",
    "    dwTimeSeries = dw.select(probabilityBands)\n",
    "    data = tools.imagecollection.getValues(\n",
    "        collection=dwTimeSeries,\n",
    "        geometry=region,\n",
    "        reducer='mode',\n",
    "        maxPixels=1e7,\n",
    "        side='client',\n",
    "        bestEffort=True)\n",
    "    return data\n",
    "shp_file = gpd.read_file('/home/graham/Downloads/RFCx_GQ_Shapefiles/Hulu_Batang_Hari_sites_Buffer1k.shp', crs='EPSG:4326')\n",
    "    \n",
    "data = []    \n",
    "s = json.loads(shp_file.to_json())\n",
    "for i in range(len(s['features'])):\n",
    "    region = ee.Geometry.Polygon(shp_to_ee_fmt(shp_file,i))\n",
    "    data.append(getDataFromRegion(region))\n",
    "    print(len(data))\n"
   ]
  },
  {
   "cell_type": "code",
   "execution_count": null,
   "metadata": {},
   "outputs": [],
   "source": [
    "x = tools.imagecollection.data2pandas(data)\n",
    "x = x.reset_index()\n",
    "x = x.dropna()"
   ]
  },
  {
   "cell_type": "code",
   "execution_count": null,
   "metadata": {},
   "outputs": [],
   "source": [
    "x['index'] = x['index'].apply(lambda x: x.split(\"_\")[0][0:8])"
   ]
  },
  {
   "cell_type": "code",
   "execution_count": null,
   "metadata": {},
   "outputs": [
    {
     "ename": "ValueError",
     "evalue": "Unable to parse string \"20200607T032541_20200607T034657_T47MQV\" at position 0",
     "output_type": "error",
     "traceback": [
      "\u001b[0;31m---------------------------------------------------------------------------\u001b[0m",
      "\u001b[0;31mValueError\u001b[0m                                Traceback (most recent call last)",
      "File \u001b[0;32m~/.local/lib/python3.8/site-packages/pandas/_libs/lib.pyx:2305\u001b[0m, in \u001b[0;36mpandas._libs.lib.maybe_convert_numeric\u001b[0;34m()\u001b[0m\n",
      "\u001b[0;31mValueError\u001b[0m: Unable to parse string \"20200607T032541_20200607T034657_T47MQV\"",
      "\nDuring handling of the above exception, another exception occurred:\n",
      "\u001b[0;31mValueError\u001b[0m                                Traceback (most recent call last)",
      "\u001b[1;32m/home/graham/code/rfcx/gee_testing.ipynb Cellule 6\u001b[0m in \u001b[0;36m<cell line: 1>\u001b[0;34m()\u001b[0m\n\u001b[0;32m----> <a href='vscode-notebook-cell:/home/graham/code/rfcx/gee_testing.ipynb#ch0000008?line=0'>1</a>\u001b[0m x[\u001b[39m'\u001b[39m\u001b[39mindex\u001b[39m\u001b[39m'\u001b[39m] \u001b[39m=\u001b[39m  pd\u001b[39m.\u001b[39;49mto_numeric(x[\u001b[39m'\u001b[39;49m\u001b[39mindex\u001b[39;49m\u001b[39m'\u001b[39;49m])\n",
      "File \u001b[0;32m~/.local/lib/python3.8/site-packages/pandas/core/tools/numeric.py:183\u001b[0m, in \u001b[0;36mto_numeric\u001b[0;34m(arg, errors, downcast)\u001b[0m\n\u001b[1;32m    181\u001b[0m coerce_numeric \u001b[39m=\u001b[39m errors \u001b[39mnot\u001b[39;00m \u001b[39min\u001b[39;00m (\u001b[39m\"\u001b[39m\u001b[39mignore\u001b[39m\u001b[39m\"\u001b[39m, \u001b[39m\"\u001b[39m\u001b[39mraise\u001b[39m\u001b[39m\"\u001b[39m)\n\u001b[1;32m    182\u001b[0m \u001b[39mtry\u001b[39;00m:\n\u001b[0;32m--> 183\u001b[0m     values, _ \u001b[39m=\u001b[39m lib\u001b[39m.\u001b[39;49mmaybe_convert_numeric(\n\u001b[1;32m    184\u001b[0m         values, \u001b[39mset\u001b[39;49m(), coerce_numeric\u001b[39m=\u001b[39;49mcoerce_numeric\n\u001b[1;32m    185\u001b[0m     )\n\u001b[1;32m    186\u001b[0m \u001b[39mexcept\u001b[39;00m (\u001b[39mValueError\u001b[39;00m, \u001b[39mTypeError\u001b[39;00m):\n\u001b[1;32m    187\u001b[0m     \u001b[39mif\u001b[39;00m errors \u001b[39m==\u001b[39m \u001b[39m\"\u001b[39m\u001b[39mraise\u001b[39m\u001b[39m\"\u001b[39m:\n",
      "File \u001b[0;32m~/.local/lib/python3.8/site-packages/pandas/_libs/lib.pyx:2347\u001b[0m, in \u001b[0;36mpandas._libs.lib.maybe_convert_numeric\u001b[0;34m()\u001b[0m\n",
      "\u001b[0;31mValueError\u001b[0m: Unable to parse string \"20200607T032541_20200607T034657_T47MQV\" at position 0"
     ]
    }
   ],
   "source": [
    "x['index'] =  pd.to_numeric(x['index'])"
   ]
  },
  {
   "cell_type": "code",
   "execution_count": null,
   "metadata": {},
   "outputs": [
    {
     "data": {
      "text/html": [
       "<div>\n",
       "<style scoped>\n",
       "    .dataframe tbody tr th:only-of-type {\n",
       "        vertical-align: middle;\n",
       "    }\n",
       "\n",
       "    .dataframe tbody tr th {\n",
       "        vertical-align: top;\n",
       "    }\n",
       "\n",
       "    .dataframe thead th {\n",
       "        text-align: right;\n",
       "    }\n",
       "</style>\n",
       "<table border=\"1\" class=\"dataframe\">\n",
       "  <thead>\n",
       "    <tr style=\"text-align: right;\">\n",
       "      <th></th>\n",
       "      <th>index</th>\n",
       "      <th>bare</th>\n",
       "      <th>built</th>\n",
       "      <th>crops</th>\n",
       "      <th>flooded_vegetation</th>\n",
       "      <th>grass</th>\n",
       "      <th>shrub_and_scrub</th>\n",
       "      <th>snow_and_ice</th>\n",
       "      <th>trees</th>\n",
       "      <th>water</th>\n",
       "    </tr>\n",
       "  </thead>\n",
       "  <tbody>\n",
       "    <tr>\n",
       "      <th>3</th>\n",
       "      <td>20200607T032541_20200607T034657_T47MQV</td>\n",
       "      <td>0.037934</td>\n",
       "      <td>0.030610</td>\n",
       "      <td>0.029329</td>\n",
       "      <td>0.031890</td>\n",
       "      <td>0.033725</td>\n",
       "      <td>0.040170</td>\n",
       "      <td>0.031648</td>\n",
       "      <td>0.727905</td>\n",
       "      <td>0.035584</td>\n",
       "    </tr>\n",
       "    <tr>\n",
       "      <th>7</th>\n",
       "      <td>20200816T032541_20200816T033204_T47MQV</td>\n",
       "      <td>0.037606</td>\n",
       "      <td>0.030756</td>\n",
       "      <td>0.029542</td>\n",
       "      <td>0.033081</td>\n",
       "      <td>0.033690</td>\n",
       "      <td>0.039552</td>\n",
       "      <td>0.032172</td>\n",
       "      <td>0.728530</td>\n",
       "      <td>0.034425</td>\n",
       "    </tr>\n",
       "  </tbody>\n",
       "</table>\n",
       "</div>"
      ],
      "text/plain": [
       "                                    index      bare     built     crops  \\\n",
       "3  20200607T032541_20200607T034657_T47MQV  0.037934  0.030610  0.029329   \n",
       "7  20200816T032541_20200816T033204_T47MQV  0.037606  0.030756  0.029542   \n",
       "\n",
       "   flooded_vegetation     grass  shrub_and_scrub  snow_and_ice     trees  \\\n",
       "3            0.031890  0.033725         0.040170      0.031648  0.727905   \n",
       "7            0.033081  0.033690         0.039552      0.032172  0.728530   \n",
       "\n",
       "      water  \n",
       "3  0.035584  \n",
       "7  0.034425  "
      ]
     },
     "execution_count": 179,
     "metadata": {},
     "output_type": "execute_result"
    }
   ],
   "source": [
    "x"
   ]
  },
  {
   "cell_type": "code",
   "execution_count": null,
   "metadata": {},
   "outputs": [
    {
     "name": "stderr",
     "output_type": "stream",
     "text": [
      "/home/graham/.local/lib/python3.8/site-packages/seaborn/_decorators.py:36: FutureWarning: Pass the following variables as keyword args: x, y. From version 0.12, the only valid positional argument will be `data`, and passing other arguments without an explicit keyword will result in an error or misinterpretation.\n",
      "  warnings.warn(\n",
      "/home/graham/.local/lib/python3.8/site-packages/seaborn/_decorators.py:36: FutureWarning: Pass the following variables as keyword args: x, y. From version 0.12, the only valid positional argument will be `data`, and passing other arguments without an explicit keyword will result in an error or misinterpretation.\n",
      "  warnings.warn(\n"
     ]
    },
    {
     "data": {
      "text/plain": [
       "<AxesSubplot:xlabel='index', ylabel='trees'>"
      ]
     },
     "execution_count": 180,
     "metadata": {},
     "output_type": "execute_result"
    },
    {
     "data": {
      "image/png": "[encoded data removed]",
      "text/plain": [
       "<Figure size 432x288 with 1 Axes>"
      ]
     },
     "metadata": {
      "needs_background": "light"
     },
     "output_type": "display_data"
    }
   ],
   "source": [
    "import seaborn as sns\n",
    "\n",
    "sns.lineplot(x['index'],x['trees'])\n",
    "sns.lineplot(x['index'],x['grass'])"
   ]
  },
  {
   "cell_type": "code",
   "execution_count": 239,
   "metadata": {},
   "outputs": [],
   "source": [
    "reduced = tools.imagecollection.reduceEqualInterval(dwTimeSeries,interval=1,unit='month',reducer='median')\n"
   ]
  },
  {
   "cell_type": "code",
   "execution_count": 240,
   "metadata": {},
   "outputs": [],
   "source": [
    "reduced_data = tools.imagecollection.getValues(\n",
    "    collection=reduced,\n",
    "    geometry=region,\n",
    "    reducer='mode',\n",
    "    maxPixels=1e9,\n",
    "    side='client',\n",
    "    bestEffort=True)"
   ]
  },
  {
   "cell_type": "code",
   "execution_count": 241,
   "metadata": {},
   "outputs": [
    {
     "data": {
      "text/plain": [
       "{'0': {'bare': 0.03412470619985546,\n",
       "  'built': 0.03280978226321162,\n",
       "  'crops': 0.029946812888952314,\n",
       "  'flooded_vegetation': 0.02684359714630082,\n",
       "  'grass': 0.033229112484882146,\n",
       "  'shrub_and_scrub': 0.033253065257914605,\n",
       "  'snow_and_ice': 0.033108112758552695,\n",
       "  'trees': 0.7441845137919142,\n",
       "  'water': 0.030313771492514116},\n",
       " '1': {'bare': 0.03613547412915644,\n",
       "  'built': 0.03075308103095891,\n",
       "  'crops': 0.02977612223730839,\n",
       "  'flooded_vegetation': 0.029804911381826976,\n",
       "  'grass': 0.03340984735579943,\n",
       "  'shrub_and_scrub': 0.034215622366318844,\n",
       "  'snow_and_ice': 0.03359290395332405,\n",
       "  'trees': 0.7363495964830324,\n",
       "  'water': 0.03296773090413774},\n",
       " '2': {'bare': 0.03465470689248013,\n",
       "  'built': 0.03228326823248077,\n",
       "  'crops': 0.030773115204618947,\n",
       "  'flooded_vegetation': 0.026861751969317296,\n",
       "  'grass': 0.032801672642739574,\n",
       "  'shrub_and_scrub': 0.03369306956119591,\n",
       "  'snow_and_ice': 0.033335205822271216,\n",
       "  'trees': 0.7402981444890022,\n",
       "  'water': 0.032219118935199874},\n",
       " '3': {'bare': 0.03603392797689865,\n",
       "  'built': 0.03232973075889963,\n",
       "  'crops': 0.02950296123340482,\n",
       "  'flooded_vegetation': 0.030294360950988367,\n",
       "  'grass': 0.03293606097303931,\n",
       "  'shrub_and_scrub': 0.03699271805708042,\n",
       "  'snow_and_ice': 0.03240392189142421,\n",
       "  'trees': 0.7401742573077769,\n",
       "  'water': 0.03317555366869293},\n",
       " '4': {'bare': 0.03606584476707967,\n",
       "  'built': 0.032780560168829645,\n",
       "  'crops': 0.029583907815487635,\n",
       "  'flooded_vegetation': 0.03028570985587029,\n",
       "  'grass': 0.032982796758261546,\n",
       "  'shrub_and_scrub': 0.036996829190852794,\n",
       "  'snow_and_ice': 0.032772620553628784,\n",
       "  'trees': 0.7401871085686114,\n",
       "  'water': 0.03302350843930147},\n",
       " '5': {'bare': 0.03607394369928275,\n",
       "  'built': 0.0331769080060785,\n",
       "  'crops': 0.02998995169405521,\n",
       "  'flooded_vegetation': 0.029774007456327238,\n",
       "  'grass': 0.033263680451952424,\n",
       "  'shrub_and_scrub': 0.0370305206912182,\n",
       "  'snow_and_ice': 0.03246582492394002,\n",
       "  'trees': 0.7363148888214401,\n",
       "  'water': 0.032801125991049444},\n",
       " '6': {'bare': 0.036112806314618696,\n",
       "  'built': 0.03331021241539043,\n",
       "  'crops': 0.02991642327497475,\n",
       "  'flooded_vegetation': 0.030095151287878597,\n",
       "  'grass': 0.033444255435395163,\n",
       "  'shrub_and_scrub': 0.03688054196116351,\n",
       "  'snow_and_ice': 0.03331785626007609,\n",
       "  'trees': 0.7362980862745011,\n",
       "  'water': 0.03254550324452405},\n",
       " '7': {'bare': 0.03611532426034156,\n",
       "  'built': 0.03345091381415562,\n",
       "  'crops': 0.030230556225364462,\n",
       "  'flooded_vegetation': 0.026416922487731115,\n",
       "  'grass': 0.03367773588201527,\n",
       "  'shrub_and_scrub': 0.03717255116525688,\n",
       "  'snow_and_ice': 0.033462456924525895,\n",
       "  'trees': 0.7362992100669743,\n",
       "  'water': 0.02982560492990439},\n",
       " '8': {'bare': 0.03807161765213826,\n",
       "  'built': 0.02950675069576131,\n",
       "  'crops': 0.032189634345514036,\n",
       "  'flooded_vegetation': 0.02905129452871848,\n",
       "  'grass': 0.03676475339968927,\n",
       "  'shrub_and_scrub': 0.036150635287670055,\n",
       "  'snow_and_ice': 0.034163152822791976,\n",
       "  'trees': 0.7323934345630339,\n",
       "  'water': 0.029781251131061233}}"
      ]
     },
     "execution_count": 241,
     "metadata": {},
     "output_type": "execute_result"
    }
   ],
   "source": [
    "reduced_data"
   ]
  },
  {
   "cell_type": "code",
   "execution_count": 242,
   "metadata": {},
   "outputs": [],
   "source": [
    "x = tools.imagecollection.data2pandas(reduced_data)\n",
    "x = x.reset_index()"
   ]
  },
  {
   "cell_type": "code",
   "execution_count": 243,
   "metadata": {},
   "outputs": [
    {
     "data": {
      "text/html": [
       "<div>\n",
       "<style scoped>\n",
       "    .dataframe tbody tr th:only-of-type {\n",
       "        vertical-align: middle;\n",
       "    }\n",
       "\n",
       "    .dataframe tbody tr th {\n",
       "        vertical-align: top;\n",
       "    }\n",
       "\n",
       "    .dataframe thead th {\n",
       "        text-align: right;\n",
       "    }\n",
       "</style>\n",
       "<table border=\"1\" class=\"dataframe\">\n",
       "  <thead>\n",
       "    <tr style=\"text-align: right;\">\n",
       "      <th></th>\n",
       "      <th>index</th>\n",
       "      <th>bare</th>\n",
       "      <th>built</th>\n",
       "      <th>crops</th>\n",
       "      <th>flooded_vegetation</th>\n",
       "      <th>grass</th>\n",
       "      <th>shrub_and_scrub</th>\n",
       "      <th>snow_and_ice</th>\n",
       "      <th>trees</th>\n",
       "      <th>water</th>\n",
       "    </tr>\n",
       "  </thead>\n",
       "  <tbody>\n",
       "    <tr>\n",
       "      <th>0</th>\n",
       "      <td>0</td>\n",
       "      <td>0.034125</td>\n",
       "      <td>0.032810</td>\n",
       "      <td>0.029947</td>\n",
       "      <td>0.026844</td>\n",
       "      <td>0.033229</td>\n",
       "      <td>0.033253</td>\n",
       "      <td>0.033108</td>\n",
       "      <td>0.744185</td>\n",
       "      <td>0.030314</td>\n",
       "    </tr>\n",
       "    <tr>\n",
       "      <th>1</th>\n",
       "      <td>1</td>\n",
       "      <td>0.036135</td>\n",
       "      <td>0.030753</td>\n",
       "      <td>0.029776</td>\n",
       "      <td>0.029805</td>\n",
       "      <td>0.033410</td>\n",
       "      <td>0.034216</td>\n",
       "      <td>0.033593</td>\n",
       "      <td>0.736350</td>\n",
       "      <td>0.032968</td>\n",
       "    </tr>\n",
       "    <tr>\n",
       "      <th>2</th>\n",
       "      <td>2</td>\n",
       "      <td>0.034655</td>\n",
       "      <td>0.032283</td>\n",
       "      <td>0.030773</td>\n",
       "      <td>0.026862</td>\n",
       "      <td>0.032802</td>\n",
       "      <td>0.033693</td>\n",
       "      <td>0.033335</td>\n",
       "      <td>0.740298</td>\n",
       "      <td>0.032219</td>\n",
       "    </tr>\n",
       "    <tr>\n",
       "      <th>3</th>\n",
       "      <td>3</td>\n",
       "      <td>0.036034</td>\n",
       "      <td>0.032330</td>\n",
       "      <td>0.029503</td>\n",
       "      <td>0.030294</td>\n",
       "      <td>0.032936</td>\n",
       "      <td>0.036993</td>\n",
       "      <td>0.032404</td>\n",
       "      <td>0.740174</td>\n",
       "      <td>0.033176</td>\n",
       "    </tr>\n",
       "    <tr>\n",
       "      <th>4</th>\n",
       "      <td>4</td>\n",
       "      <td>0.036066</td>\n",
       "      <td>0.032781</td>\n",
       "      <td>0.029584</td>\n",
       "      <td>0.030286</td>\n",
       "      <td>0.032983</td>\n",
       "      <td>0.036997</td>\n",
       "      <td>0.032773</td>\n",
       "      <td>0.740187</td>\n",
       "      <td>0.033024</td>\n",
       "    </tr>\n",
       "    <tr>\n",
       "      <th>5</th>\n",
       "      <td>5</td>\n",
       "      <td>0.036074</td>\n",
       "      <td>0.033177</td>\n",
       "      <td>0.029990</td>\n",
       "      <td>0.029774</td>\n",
       "      <td>0.033264</td>\n",
       "      <td>0.037031</td>\n",
       "      <td>0.032466</td>\n",
       "      <td>0.736315</td>\n",
       "      <td>0.032801</td>\n",
       "    </tr>\n",
       "    <tr>\n",
       "      <th>6</th>\n",
       "      <td>6</td>\n",
       "      <td>0.036113</td>\n",
       "      <td>0.033310</td>\n",
       "      <td>0.029916</td>\n",
       "      <td>0.030095</td>\n",
       "      <td>0.033444</td>\n",
       "      <td>0.036881</td>\n",
       "      <td>0.033318</td>\n",
       "      <td>0.736298</td>\n",
       "      <td>0.032546</td>\n",
       "    </tr>\n",
       "    <tr>\n",
       "      <th>7</th>\n",
       "      <td>7</td>\n",
       "      <td>0.036115</td>\n",
       "      <td>0.033451</td>\n",
       "      <td>0.030231</td>\n",
       "      <td>0.026417</td>\n",
       "      <td>0.033678</td>\n",
       "      <td>0.037173</td>\n",
       "      <td>0.033462</td>\n",
       "      <td>0.736299</td>\n",
       "      <td>0.029826</td>\n",
       "    </tr>\n",
       "    <tr>\n",
       "      <th>8</th>\n",
       "      <td>8</td>\n",
       "      <td>0.038072</td>\n",
       "      <td>0.029507</td>\n",
       "      <td>0.032190</td>\n",
       "      <td>0.029051</td>\n",
       "      <td>0.036765</td>\n",
       "      <td>0.036151</td>\n",
       "      <td>0.034163</td>\n",
       "      <td>0.732393</td>\n",
       "      <td>0.029781</td>\n",
       "    </tr>\n",
       "  </tbody>\n",
       "</table>\n",
       "</div>"
      ],
      "text/plain": [
       "  index      bare     built     crops  flooded_vegetation     grass  \\\n",
       "0     0  0.034125  0.032810  0.029947            0.026844  0.033229   \n",
       "1     1  0.036135  0.030753  0.029776            0.029805  0.033410   \n",
       "2     2  0.034655  0.032283  0.030773            0.026862  0.032802   \n",
       "3     3  0.036034  0.032330  0.029503            0.030294  0.032936   \n",
       "4     4  0.036066  0.032781  0.029584            0.030286  0.032983   \n",
       "5     5  0.036074  0.033177  0.029990            0.029774  0.033264   \n",
       "6     6  0.036113  0.033310  0.029916            0.030095  0.033444   \n",
       "7     7  0.036115  0.033451  0.030231            0.026417  0.033678   \n",
       "8     8  0.038072  0.029507  0.032190            0.029051  0.036765   \n",
       "\n",
       "   shrub_and_scrub  snow_and_ice     trees     water  \n",
       "0         0.033253      0.033108  0.744185  0.030314  \n",
       "1         0.034216      0.033593  0.736350  0.032968  \n",
       "2         0.033693      0.033335  0.740298  0.032219  \n",
       "3         0.036993      0.032404  0.740174  0.033176  \n",
       "4         0.036997      0.032773  0.740187  0.033024  \n",
       "5         0.037031      0.032466  0.736315  0.032801  \n",
       "6         0.036881      0.033318  0.736298  0.032546  \n",
       "7         0.037173      0.033462  0.736299  0.029826  \n",
       "8         0.036151      0.034163  0.732393  0.029781  "
      ]
     },
     "execution_count": 243,
     "metadata": {},
     "output_type": "execute_result"
    }
   ],
   "source": [
    "x"
   ]
  },
  {
   "cell_type": "code",
   "execution_count": 245,
   "metadata": {},
   "outputs": [],
   "source": [
    "x = x.melt('index',var_name='bands',value_name='values')\n"
   ]
  },
  {
   "cell_type": "code",
   "execution_count": 246,
   "metadata": {},
   "outputs": [],
   "source": [
    "x = x.sort_values(by=['index'])\n",
    "x = x.dropna()"
   ]
  },
  {
   "cell_type": "code",
   "execution_count": 244,
   "metadata": {},
   "outputs": [],
   "source": [
    "import pandas as pd\n",
    "x['index'] = pd.to_numeric(x['index'])"
   ]
  },
  {
   "cell_type": "code",
   "execution_count": 247,
   "metadata": {},
   "outputs": [
    {
     "data": {
      "text/html": [
       "<div>\n",
       "<style scoped>\n",
       "    .dataframe tbody tr th:only-of-type {\n",
       "        vertical-align: middle;\n",
       "    }\n",
       "\n",
       "    .dataframe tbody tr th {\n",
       "        vertical-align: top;\n",
       "    }\n",
       "\n",
       "    .dataframe thead th {\n",
       "        text-align: right;\n",
       "    }\n",
       "</style>\n",
       "<table border=\"1\" class=\"dataframe\">\n",
       "  <thead>\n",
       "    <tr style=\"text-align: right;\">\n",
       "      <th></th>\n",
       "      <th>index</th>\n",
       "      <th>bands</th>\n",
       "      <th>values</th>\n",
       "    </tr>\n",
       "  </thead>\n",
       "  <tbody>\n",
       "    <tr>\n",
       "      <th>0</th>\n",
       "      <td>0</td>\n",
       "      <td>bare</td>\n",
       "      <td>0.034125</td>\n",
       "    </tr>\n",
       "    <tr>\n",
       "      <th>36</th>\n",
       "      <td>0</td>\n",
       "      <td>grass</td>\n",
       "      <td>0.033229</td>\n",
       "    </tr>\n",
       "    <tr>\n",
       "      <th>45</th>\n",
       "      <td>0</td>\n",
       "      <td>shrub_and_scrub</td>\n",
       "      <td>0.033253</td>\n",
       "    </tr>\n",
       "    <tr>\n",
       "      <th>27</th>\n",
       "      <td>0</td>\n",
       "      <td>flooded_vegetation</td>\n",
       "      <td>0.026844</td>\n",
       "    </tr>\n",
       "    <tr>\n",
       "      <th>54</th>\n",
       "      <td>0</td>\n",
       "      <td>snow_and_ice</td>\n",
       "      <td>0.033108</td>\n",
       "    </tr>\n",
       "    <tr>\n",
       "      <th>...</th>\n",
       "      <td>...</td>\n",
       "      <td>...</td>\n",
       "      <td>...</td>\n",
       "    </tr>\n",
       "    <tr>\n",
       "      <th>17</th>\n",
       "      <td>8</td>\n",
       "      <td>built</td>\n",
       "      <td>0.029507</td>\n",
       "    </tr>\n",
       "    <tr>\n",
       "      <th>62</th>\n",
       "      <td>8</td>\n",
       "      <td>snow_and_ice</td>\n",
       "      <td>0.034163</td>\n",
       "    </tr>\n",
       "    <tr>\n",
       "      <th>35</th>\n",
       "      <td>8</td>\n",
       "      <td>flooded_vegetation</td>\n",
       "      <td>0.029051</td>\n",
       "    </tr>\n",
       "    <tr>\n",
       "      <th>44</th>\n",
       "      <td>8</td>\n",
       "      <td>grass</td>\n",
       "      <td>0.036765</td>\n",
       "    </tr>\n",
       "    <tr>\n",
       "      <th>80</th>\n",
       "      <td>8</td>\n",
       "      <td>water</td>\n",
       "      <td>0.029781</td>\n",
       "    </tr>\n",
       "  </tbody>\n",
       "</table>\n",
       "<p>81 rows × 3 columns</p>\n",
       "</div>"
      ],
      "text/plain": [
       "    index               bands    values\n",
       "0       0                bare  0.034125\n",
       "36      0               grass  0.033229\n",
       "45      0     shrub_and_scrub  0.033253\n",
       "27      0  flooded_vegetation  0.026844\n",
       "54      0        snow_and_ice  0.033108\n",
       "..    ...                 ...       ...\n",
       "17      8               built  0.029507\n",
       "62      8        snow_and_ice  0.034163\n",
       "35      8  flooded_vegetation  0.029051\n",
       "44      8               grass  0.036765\n",
       "80      8               water  0.029781\n",
       "\n",
       "[81 rows x 3 columns]"
      ]
     },
     "execution_count": 247,
     "metadata": {},
     "output_type": "execute_result"
    }
   ],
   "source": [
    "x"
   ]
  },
  {
   "cell_type": "code",
   "execution_count": null,
   "metadata": {},
   "outputs": [],
   "source": [
    "ee.batch.Task."
   ]
  },
  {
   "cell_type": "code",
   "execution_count": 248,
   "metadata": {},
   "outputs": [
    {
     "data": {
      "text/plain": [
       "<seaborn.axisgrid.FacetGrid at 0x7fc4ae749760>"
      ]
     },
     "execution_count": 248,
     "metadata": {},
     "output_type": "execute_result"
    },
    {
     "data": {
      "text/plain": [
       "<Figure size 2160x3240 with 0 Axes>"
      ]
     },
     "metadata": {},
     "output_type": "display_data"
    },
    {
     "data": {
      "image/png": "[encoded data removed]",
      "text/plain": [
       "<Figure size 492x360 with 1 Axes>"
      ]
     },
     "metadata": {
      "needs_background": "light"
     },
     "output_type": "display_data"
    }
   ],
   "source": [
    "from matplotlib import pyplot as plt\n",
    "import seaborn as sns\n",
    "\n",
    "plt.figure(figsize=(30,45))\n",
    "sns.catplot(x='index',y='values',hue='bands',data=x,kind='point')\n"
   ]
  }
 ],
 "metadata": {
  "kernelspec": {
   "display_name": "Python 3.8.10 64-bit",
   "language": "python",
   "name": "python3"
  },
  "language_info": {
   "codemirror_mode": {
    "name": "ipython",
    "version": 3
   },
   "file_extension": ".py",
   "mimetype": "text/x-python",
   "name": "python",
   "nbconvert_exporter": "python",
   "pygments_lexer": "ipython3",
   "version": "3.8.10"
  },
  "orig_nbformat": 4,
  "vscode": {
   "interpreter": {
    "hash": "916dbcbb3f70747c44a77c7bcd40155683ae19c65e1c03b4aa3499c5328201f1"
   }
  }
 },
 "nbformat": 4,
 "nbformat_minor": 2
}
