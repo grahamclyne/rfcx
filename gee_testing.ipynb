{
 "cells": [
  {
   "cell_type": "code",
   "execution_count": 2,
   "metadata": {},
   "outputs": [
    {
     "name": "stderr",
     "output_type": "stream",
     "text": [
      "/Users/gclyne/.pyenv/versions/3.9.1/lib/python3.9/site-packages/geopandas/_compat.py:111: UserWarning: The Shapely GEOS version (3.10.2-CAPI-1.16.0) is incompatible with the GEOS version PyGEOS was compiled with (3.10.1-CAPI-1.16.0). Conversions between both will be slow.\n",
      "  warnings.warn(\n"
     ]
    }
   ],
   "source": [
    "import ee\n",
    "import numpy as np\n",
    "import folium\n",
    "import json\n",
    "from util import shp_to_ee_fmt,add_ee_layer,get_whole_region\n",
    "import time \n",
    "from geetools import tools\n",
    "import geopandas as gpd\n",
    "import pandas as pd\n",
    "from yearly_bar_plot_tree_cover import pixel_stats_dynamic_world,plot_multiple_bar_from_dict,pixel_stats_world_cover,pixel_stats_global_forest_watch\n",
    "from constants import * \n",
    "import matplotlib.pyplot as plt\n",
    "\n",
    "\n",
    "folium.Map.add_ee_layer = add_ee_layer    \n",
    "\n",
    "try:     \n",
    "    ee.Initialize()\n",
    "except:\n",
    "    ee.Authenticate()\n",
    "    ee.Initialize()"
   ]
  },
  {
   "cell_type": "code",
   "execution_count": null,
   "metadata": {},
   "outputs": [],
   "source": [
    "# TO EXPROT CSV OF YEAR FOR EACH REGION WITH WC\n",
    "\n",
    "\n",
    "shape_file = '/Users/gclyne/Downloads/rfcx_sensor_placement/Graham_Amazon/Bacajai_JP1.shp'\n",
    "file_name = shape_file.split('/')[-1].split('.')[0]\n",
    "start_date = '2017-01-01'\n",
    "end_date = '2021-01-01'\n",
    "shp_file = gpd.read_file(shape_file, crs='EPSG:4326')\n",
    "trees = []\n",
    "data = json.loads(shp_file.to_json())\n",
    "\n",
    "    #for each feature in image, get monthly avg and get band values\n",
    "for index in range(len(data['features'])):\n",
    "    print(f'processing image: {index}')\n",
    "    # #get image of region\n",
    "    region = ee.Geometry.Polygon(shp_to_ee_fmt(shp_file,index))\n",
    "\n",
    "    dataset = ee.ImageCollection(\"ESA/WorldCover/v100\").first().clip(region)\n",
    "    pixelCountStats = dataset.reduceRegion(reducer=ee.Reducer.frequencyHistogram(),geometry=region,bestEffort=True,maxPixels=1e8,scale=10)\n",
    "    total = sum(pixelCountStats.getInfo()['Map'].values())\n",
    "\n",
    "    output = pixelCountStats.getInfo()['Map']['10'] / total\n",
    "    # for key,value in data.items():\n",
    "    #     print(key,value)\n",
    "    #     sum = 0\n",
    "    #     for val in value['label'].values():\n",
    "    #         print(val)\n",
    "    #         sum = sum + val\n",
    "    #     new_dict[key] = {'1':value['label']['1'] / sum}\n",
    "    # # print(new_dict)\n",
    "    # datas.append(new_dict)\n",
    "    trees.append(output)\n",
    "df_wc = pd.DataFrame({'id':range(len(data['features'])),'2020':trees})\n",
    "df_wc\n",
    "df_wc.to_csv('wc_2020_tembe.csv')\n",
    "\n",
    "# pixelCountStats = dw.reduceRegion(reducer=ee.Reducer.frequencyHistogram(),geometry=region,bestEffort=True,maxPixels=1e8,scale=1)\n",
    "# output = pixelCountStats.getInfo()\n",
    "# print(output)\n",
    "#"
   ]
  },
  {
   "cell_type": "code",
   "execution_count": null,
   "metadata": {},
   "outputs": [],
   "source": [
    "#make CSV for GFC \n",
    "\n",
    "shape_file = '/Users/gclyne/Downloads/rfcx_sensor_placement/Graham_Amazon/Bacajai_JP1.shp'\n",
    "file_name = shape_file.split('/')[-1].split('.')[0]\n",
    "start_date = '2017-01-01'\n",
    "end_date = '2021-01-01'\n",
    "shp_file = gpd.read_file(shape_file, crs='EPSG:4326')\n",
    "trees = []\n",
    "data = json.loads(shp_file.to_json())\n",
    "\n",
    "    #for each feature in image, get monthly avg and get band values\n",
    "for index in range(len(data['features'])):\n",
    "    print(f'processing image: {index}')\n",
    "    # #get image of region\n",
    "    region = ee.Geometry.Polygon(shp_to_ee_fmt(shp_file,index))\n",
    "\n",
    "    dataset = ee.ImageCollection(\"UMD/hansen/global_forest_change_2021_v1_9\").first().clip(region)\n",
    "    pixelCountStats = dataset.reduceRegion(reducer=ee.Reducer.frequencyHistogram(),geometry=region,bestEffort=True,maxPixels=1e8,scale=10)\n",
    "    total = sum(pixelCountStats.getInfo()['Map'].values())\n",
    "\n",
    "    output = pixelCountStats.getInfo()['Map']['10'] / total\n",
    "    # for key,value in data.items():\n",
    "    #     print(key,value)\n",
    "    #     sum = 0\n",
    "    #     for val in value['label'].values():\n",
    "    #         print(val)\n",
    "    #         sum = sum + val\n",
    "    #     new_dict[key] = {'1':value['label']['1'] / sum}\n",
    "    # # print(new_dict)\n",
    "    # datas.append(new_dict)\n",
    "    trees.append(output)\n",
    "df_wc = pd.DataFrame({'id':range(len(data['features'])),'2020':trees})\n",
    "df_wc\n",
    "df_wc.to_csv('wc_2020_tembe.csv')"
   ]
  },
  {
   "cell_type": "code",
   "execution_count": null,
   "metadata": {},
   "outputs": [],
   "source": [
    "import plotly.express as px\n",
    "fin_df = fin_df.reset_index()\n",
    "px.bar(fin_df,x='id',y=['2017','2018','2019','2020'],barmode='group')"
   ]
  },
  {
   "cell_type": "code",
   "execution_count": null,
   "metadata": {},
   "outputs": [],
   "source": [
    "shape_file = '/Users/gclyne/Downloads/RFCx_GQ_Shapefiles/Hulu_Batang_Hari_sites_Buffer1k.shp'\n",
    "shp_file = gpd.read_file('/Users/gclyne/Downloads/RFCx_GQ_Shapefiles/Hulu_Batang_Hari_sites_Buffer1k.shp', crs='EPSG:4326')\n",
    "file_name = shape_file.split('/')[-1].split('.')[0]  \n",
    "\n",
    "my_map = folium.Map(location=[region.getInfo()['coordinates'][0][0][1],region.getInfo()['coordinates'][0][0][0]], zoom_start=13, height=500)\n",
    "region = ee.Geometry.Polygon(shp_to_ee_fmt(shp_file,1))\n",
    "\n",
    "years = ['2017','2018','2019','2020','2021']\n",
    "for year_index in range(4):\n",
    "    dw = ee.ImageCollection('COPERNICUS/S2_HARMONIZED').filterDate(years[year_index],years[year_index+1]).filterBounds(region).filter(ee.Filter.lt('CLOUDY_PIXEL_PERCENTAGE', 20))\n",
    "    classification = ee.Image(dw.first()).clip(region) #here we use mode reduction, takes the most common pixel value over time period\n",
    "    s2VisParams = {'bands': ['B4', 'B3', 'B2'], 'min': 0, 'max': 3000}    \n",
    "    my_map.add_ee_layer(classification, s2VisParams, 'Classified Image')\n",
    "    my_map.save(file_name + str(year_index) + '_s2_copernicus_first_single_dw.html')\n",
    "\n"
   ]
  },
  {
   "cell_type": "code",
   "execution_count": null,
   "metadata": {},
   "outputs": [],
   "source": [
    "shape_file = '/Users/gclyne/Downloads/Tembe_shp/Tembe_Reserve.shp'\n",
    "shp_file = gpd.read_file('/Users/gclyne/Downloads/Tembe_shp/Tembe_Reserve.shp', crs='EPSG:4326')\n",
    "folium.Map.add_ee_layer = add_ee_layer    \n",
    "file_name = shape_file.split('/')[-1].split('.')[0]  \n",
    "\n",
    "region = ee.Geometry.Polygon(shp_to_ee_fmt(shp_file,0))\n",
    "\n",
    "\n",
    "dw = ee.ImageCollection('GOOGLE/DYNAMICWORLD/V1').filterDate('2019','2020').filterBounds(region).limit(10)\n",
    "images = []\n",
    "def listval(img, it):\n",
    "    classification = img\n",
    "    return ee.List(it).add(img)\n",
    "\n",
    "result = dw.iterate(listval, ee.List([]))\n",
    "dwVisParams = {'min': 0,'max': 8,'palette': ['#419BDF', '#397D49', '#88B053', '#7A87C6', '#E49635', '#DFC35A','#C4281B', '#A59B8F', '#B39FE1']}\n",
    "# my_map.add_ee_layer(classification, dwVisParams, 'Classified Image')\n",
    "# my_map.save(file_name + str(year_index) + '_mode_dw.html')\n",
    "result.getInfo()"
   ]
  },
  {
   "cell_type": "code",
   "execution_count": null,
   "metadata": {},
   "outputs": [],
   "source": [
    "result_list = result.getInfo()\n",
    "print(dw.first().select('label').clip(region).name())\n",
    "# print(ee.Dictionary(result_list[0]).toImage().name())\n",
    "# # result_list = [dw.sort('system:time_start', False).first().clip(region)]\n",
    "# for i in range(len(result_list)):\n",
    "#     print(i)\n",
    "#     # print(ee.Dictionary(result_list[i]).toImage())\n",
    "#     dwVisParams = {'min': 0,'max': 8,'palette': ['#419BDF', '#397D49', '#88B053', '#7A87C6', '#E49635', '#DFC35A','#C4281B', '#A59B8F', '#B39FE1']}\n",
    "#     my_map = folium.Map(location=[region.getInfo()['coordinates'][0][0][1],region.getInfo()['coordinates'][0][0][0]], zoom_start=13, height=500)\n",
    "#     my_map.add_ee_layer(ee.Dictionary(result_list[i]).toImage().select('label'), dwVisParams, 'Classified Image')\n",
    "#     my_map.save(str(i) + '_test_single.html')\n",
    "\n",
    "dw = ee.ImageCollection('GOOGLE/DYNAMICWORLD/V1').filterDate('2020','2020').filterBounds(region).limit(10)\n",
    "\n",
    "videoArgs = {\n",
    "  'dimensions': 768,\n",
    "  'region': region,\n",
    "  'framesPerSecond': 7,\n",
    "  'crs': 'EPSG:3857',\n",
    "  'min': 0,\n",
    "  'max': 8,\n",
    "  'palette': ['#419BDF', '#397D49', '#88B053', '#7A87C6', '#E49635', '#DFC35A','#C4281B', '#A59B8F', '#B39FE1']}\n",
    "dw.select('label').getFilmstripThumbURL(videoArgs)\n"
   ]
  },
  {
   "cell_type": "code",
   "execution_count": 13,
   "metadata": {},
   "outputs": [
    {
     "data": {
      "text/plain": [
       "['2017-1',\n",
       " '2017-2',\n",
       " '2017-3',\n",
       " '2017-4',\n",
       " '2017-5',\n",
       " '2017-6',\n",
       " '2017-7',\n",
       " '2017-8',\n",
       " '2017-9',\n",
       " '2017-10',\n",
       " '2017-11',\n",
       " '2017-12',\n",
       " '2018-1',\n",
       " '2018-2',\n",
       " '2018-3',\n",
       " '2018-4',\n",
       " '2018-5',\n",
       " '2018-6',\n",
       " '2018-7',\n",
       " '2018-8',\n",
       " '2018-9',\n",
       " '2018-10',\n",
       " '2018-11',\n",
       " '2018-12',\n",
       " '2019-1',\n",
       " '2019-2',\n",
       " '2019-3',\n",
       " '2019-4',\n",
       " '2019-5',\n",
       " '2019-6',\n",
       " '2019-7',\n",
       " '2019-8',\n",
       " '2019-9',\n",
       " '2019-10',\n",
       " '2019-11',\n",
       " '2019-12',\n",
       " '2020-1',\n",
       " '2020-2',\n",
       " '2020-3',\n",
       " '2020-4',\n",
       " '2020-5',\n",
       " '2020-6',\n",
       " '2020-7',\n",
       " '2020-8',\n",
       " '2020-9',\n",
       " '2020-10',\n",
       " '2020-11',\n",
       " '2020-12']"
      ]
     },
     "execution_count": 13,
     "metadata": {},
     "output_type": "execute_result"
    }
   ],
   "source": [
    "months = pd.date_range('2017-01-01', '2021-01-01',freq='M',inclusive='left').tolist()\n",
    "columns = list(map(lambda x:f'{x.year}-{x.month}',months))\n",
    "columns"
   ]
  },
  {
   "cell_type": "code",
   "execution_count": null,
   "metadata": {},
   "outputs": [],
   "source": [
    "shape_file = '/Users/gclyne/Downloads/RFCx_GQ_Shapefiles/Hulu_Batang_Hari_sites_Buffer1k.shp'\n",
    "shp_file = gpd.read_file('/Users/gclyne/Downloads/RFCx_GQ_Shapefiles/Hulu_Batang_Hari_sites_Buffer1k.shp', crs='EPSG:4326')\n",
    "file_name = shape_file.split('/')[-1].split('.')[0]\n",
    "\n",
    "my_map = folium.Map(location=[region.getInfo()['coordinates'][0][0][1],region.getInfo()['coordinates'][0][0][0]], zoom_start=13, height=500)\n",
    "region = ee.Geometry.Polygon(shp_to_ee_fmt(shp_file,20))\n",
    "\n",
    "\n",
    "dw = ee.ImageCollection('ESA/WorldCover/v100').first().clip(region)\n",
    "visualization = {'bands': ['Map']}\n",
    "my_map.add_ee_layer(dw, visualization, 'Classified Image')\n",
    "my_map.save(file_name + '_max_wc.html')\n",
    "\n",
    "dw = ee.ImageCollection('ESA/WorldCover/v100').filterBounds(region).first().clip(region)\n",
    "pixelCountStats = dw.reduceRegion(reducer=ee.Reducer.frequencyHistogram(),geometry=region,bestEffort=True,maxPixels=1e8,scale=1)\n",
    "print(pixelCountStats.getInfo()['Map'])"
   ]
  },
  {
   "cell_type": "code",
   "execution_count": 17,
   "metadata": {},
   "outputs": [
    {
     "name": "stdout",
     "output_type": "stream",
     "text": [
      "     total_bill   tip     sex smoker   day    time  size\n",
      "0         16.99  1.01  Female     No   Sun  Dinner     2\n",
      "1         10.34  1.66    Male     No   Sun  Dinner     3\n",
      "2         21.01  3.50    Male     No   Sun  Dinner     3\n",
      "3         23.68  3.31    Male     No   Sun  Dinner     2\n",
      "4         24.59  3.61  Female     No   Sun  Dinner     4\n",
      "..          ...   ...     ...    ...   ...     ...   ...\n",
      "239       29.03  5.92    Male     No   Sat  Dinner     3\n",
      "240       27.18  2.00  Female    Yes   Sat  Dinner     2\n",
      "241       22.67  2.00    Male    Yes   Sat  Dinner     2\n",
      "242       17.82  1.75    Male     No   Sat  Dinner     2\n",
      "243       18.78  3.00  Female     No  Thur  Dinner     2\n",
      "\n",
      "[244 rows x 7 columns]\n"
     ]
    },
    {
     "data": {
      "application/vnd.plotly.v1+json": {
       "config": {
        "plotlyServerURL": "https://plot.ly"
       },
       "data": [
        {
         "alignmentgroup": "True",
         "hovertemplate": "time=Dinner<br>sex=%{x}<br>total_bill=%{y}<extra></extra>",
         "legendgroup": "Dinner",
         "marker": {
          "color": "#636efa",
          "pattern": {
           "shape": ""
          }
         },
         "name": "Dinner",
         "offsetgroup": "Dinner",
         "orientation": "v",
         "showlegend": true,
         "textposition": "auto",
         "type": "bar",
         "x": [
          "Female",
          "Male",
          "Male",
          "Male",
          "Female",
          "Male",
          "Male",
          "Male",
          "Male",
          "Male",
          "Male",
          "Female",
          "Male",
          "Male",
          "Female",
          "Male",
          "Female",
          "Male",
          "Female",
          "Male",
          "Male",
          "Female",
          "Female",
          "Male",
          "Male",
          "Male",
          "Male",
          "Male",
          "Male",
          "Female",
          "Male",
          "Male",
          "Female",
          "Female",
          "Male",
          "Male",
          "Male",
          "Female",
          "Male",
          "Male",
          "Male",
          "Male",
          "Male",
          "Male",
          "Male",
          "Male",
          "Male",
          "Male",
          "Male",
          "Male",
          "Male",
          "Female",
          "Female",
          "Male",
          "Male",
          "Male",
          "Male",
          "Female",
          "Male",
          "Male",
          "Male",
          "Male",
          "Male",
          "Male",
          "Male",
          "Male",
          "Female",
          "Female",
          "Male",
          "Male",
          "Male",
          "Female",
          "Female",
          "Female",
          "Female",
          "Male",
          "Male",
          "Male",
          "Male",
          "Female",
          "Female",
          "Female",
          "Male",
          "Male",
          "Male",
          "Male",
          "Male",
          "Female",
          "Female",
          "Female",
          "Female",
          "Female",
          "Male",
          "Male",
          "Male",
          "Male",
          "Female",
          "Male",
          "Female",
          "Male",
          "Male",
          "Female",
          "Female",
          "Male",
          "Male",
          "Male",
          "Male",
          "Male",
          "Male",
          "Female",
          "Male",
          "Female",
          "Female",
          "Male",
          "Male",
          "Male",
          "Female",
          "Male",
          "Female",
          "Male",
          "Male",
          "Male",
          "Female",
          "Female",
          "Male",
          "Male",
          "Male",
          "Male",
          "Male",
          "Male",
          "Male",
          "Male",
          "Female",
          "Male",
          "Male",
          "Male",
          "Male",
          "Male",
          "Male",
          "Male",
          "Female",
          "Male",
          "Female",
          "Male",
          "Male",
          "Male",
          "Male",
          "Male",
          "Female",
          "Male",
          "Male",
          "Male",
          "Female",
          "Female",
          "Female",
          "Male",
          "Male",
          "Male",
          "Female",
          "Male",
          "Male",
          "Female",
          "Male",
          "Male",
          "Male",
          "Male",
          "Male",
          "Male",
          "Male",
          "Male",
          "Female",
          "Male",
          "Female",
          "Male",
          "Male",
          "Female"
         ],
         "xaxis": "x",
         "y": [
          16.99,
          10.34,
          21.01,
          23.68,
          24.59,
          25.29,
          8.77,
          26.88,
          15.04,
          14.78,
          10.27,
          35.26,
          15.42,
          18.43,
          14.83,
          21.58,
          10.33,
          16.29,
          16.97,
          20.65,
          17.92,
          20.29,
          15.77,
          39.42,
          19.82,
          17.81,
          13.37,
          12.69,
          21.7,
          19.65,
          9.55,
          18.35,
          15.06,
          20.69,
          17.78,
          24.06,
          16.31,
          16.93,
          18.69,
          31.27,
          16.04,
          17.46,
          13.94,
          9.68,
          30.4,
          18.29,
          22.23,
          32.4,
          28.55,
          18.04,
          12.54,
          10.29,
          34.81,
          9.94,
          25.56,
          19.49,
          38.01,
          26.41,
          11.24,
          48.27,
          20.29,
          13.81,
          11.02,
          18.29,
          17.59,
          20.08,
          16.45,
          3.07,
          20.23,
          15.01,
          12.02,
          17.07,
          26.86,
          25.28,
          14.73,
          10.51,
          17.92,
          28.97,
          22.49,
          5.75,
          16.32,
          22.75,
          40.17,
          27.28,
          12.03,
          21.01,
          12.46,
          11.35,
          15.38,
          44.3,
          22.42,
          20.92,
          15.36,
          20.49,
          25.21,
          18.24,
          14.31,
          14,
          7.25,
          38.07,
          23.95,
          25.71,
          17.31,
          29.93,
          14.07,
          13.13,
          17.26,
          24.55,
          19.77,
          29.85,
          48.17,
          25,
          13.39,
          16.49,
          21.5,
          12.66,
          16.21,
          13.81,
          17.51,
          24.52,
          20.76,
          31.71,
          10.59,
          10.63,
          50.81,
          15.81,
          7.25,
          31.85,
          16.82,
          32.9,
          17.89,
          14.48,
          9.6,
          34.63,
          34.65,
          23.33,
          45.35,
          23.17,
          40.55,
          20.69,
          20.9,
          30.46,
          18.15,
          23.1,
          15.69,
          26.59,
          38.73,
          24.27,
          12.76,
          30.06,
          25.89,
          48.33,
          13.27,
          28.17,
          12.9,
          28.15,
          11.59,
          7.74,
          30.14,
          20.45,
          13.28,
          22.12,
          24.01,
          15.69,
          11.61,
          10.77,
          15.53,
          10.07,
          12.6,
          32.83,
          35.83,
          29.03,
          27.18,
          22.67,
          17.82,
          18.78
         ],
         "yaxis": "y"
        },
        {
         "alignmentgroup": "True",
         "hovertemplate": "time=Lunch<br>sex=%{x}<br>total_bill=%{y}<extra></extra>",
         "legendgroup": "Lunch",
         "marker": {
          "color": "#EF553B",
          "pattern": {
           "shape": ""
          }
         },
         "name": "Lunch",
         "offsetgroup": "Lunch",
         "orientation": "v",
         "showlegend": true,
         "textposition": "auto",
         "type": "bar",
         "x": [
          "Male",
          "Male",
          "Male",
          "Male",
          "Male",
          "Female",
          "Male",
          "Male",
          "Female",
          "Male",
          "Male",
          "Male",
          "Male",
          "Female",
          "Female",
          "Female",
          "Male",
          "Female",
          "Male",
          "Male",
          "Female",
          "Female",
          "Male",
          "Female",
          "Female",
          "Male",
          "Male",
          "Female",
          "Female",
          "Female",
          "Female",
          "Female",
          "Female",
          "Female",
          "Male",
          "Female",
          "Female",
          "Male",
          "Male",
          "Female",
          "Female",
          "Female",
          "Female",
          "Female",
          "Male",
          "Male",
          "Female",
          "Male",
          "Male",
          "Male",
          "Male",
          "Male",
          "Female",
          "Female",
          "Male",
          "Male",
          "Female",
          "Female",
          "Female",
          "Male",
          "Female",
          "Male",
          "Female",
          "Male",
          "Female",
          "Male",
          "Female",
          "Female"
         ],
         "xaxis": "x",
         "y": [
          27.2,
          22.76,
          17.29,
          19.44,
          16.66,
          10.07,
          32.68,
          15.98,
          34.83,
          13.03,
          18.28,
          24.71,
          21.16,
          10.65,
          12.43,
          24.08,
          11.69,
          13.42,
          14.26,
          15.95,
          12.48,
          29.8,
          8.52,
          14.52,
          11.38,
          22.82,
          19.08,
          20.27,
          11.17,
          12.26,
          18.26,
          8.51,
          10.33,
          14.15,
          16,
          13.16,
          17.47,
          34.3,
          41.19,
          27.05,
          16.43,
          8.35,
          18.64,
          11.87,
          9.78,
          7.51,
          19.81,
          28.44,
          15.48,
          16.58,
          7.56,
          10.34,
          43.11,
          13,
          13.51,
          18.71,
          12.74,
          13,
          16.4,
          20.53,
          16.47,
          12.16,
          13.42,
          8.58,
          15.98,
          13.42,
          16.27,
          10.09
         ],
         "yaxis": "y"
        }
       ],
       "layout": {
        "barmode": "relative",
        "legend": {
         "title": {
          "text": "time"
         },
         "tracegroupgap": 0
        },
        "margin": {
         "t": 60
        },
        "template": {
         "data": {
          "bar": [
           {
            "error_x": {
             "color": "#2a3f5f"
            },
            "error_y": {
             "color": "#2a3f5f"
            },
            "marker": {
             "line": {
              "color": "#E5ECF6",
              "width": 0.5
             },
             "pattern": {
              "fillmode": "overlay",
              "size": 10,
              "solidity": 0.2
             }
            },
            "type": "bar"
           }
          ],
          "barpolar": [
           {
            "marker": {
             "line": {
              "color": "#E5ECF6",
              "width": 0.5
             },
             "pattern": {
              "fillmode": "overlay",
              "size": 10,
              "solidity": 0.2
             }
            },
            "type": "barpolar"
           }
          ],
          "carpet": [
           {
            "aaxis": {
             "endlinecolor": "#2a3f5f",
             "gridcolor": "white",
             "linecolor": "white",
             "minorgridcolor": "white",
             "startlinecolor": "#2a3f5f"
            },
            "baxis": {
             "endlinecolor": "#2a3f5f",
             "gridcolor": "white",
             "linecolor": "white",
             "minorgridcolor": "white",
             "startlinecolor": "#2a3f5f"
            },
            "type": "carpet"
           }
          ],
          "choropleth": [
           {
            "colorbar": {
             "outlinewidth": 0,
             "ticks": ""
            },
            "type": "choropleth"
           }
          ],
          "contour": [
           {
            "colorbar": {
             "outlinewidth": 0,
             "ticks": ""
            },
            "colorscale": [
             [
              0,
              "#0d0887"
             ],
             [
              0.1111111111111111,
              "#46039f"
             ],
             [
              0.2222222222222222,
              "#7201a8"
             ],
             [
              0.3333333333333333,
              "#9c179e"
             ],
             [
              0.4444444444444444,
              "#bd3786"
             ],
             [
              0.5555555555555556,
              "#d8576b"
             ],
             [
              0.6666666666666666,
              "#ed7953"
             ],
             [
              0.7777777777777778,
              "#fb9f3a"
             ],
             [
              0.8888888888888888,
              "#fdca26"
             ],
             [
              1,
              "#f0f921"
             ]
            ],
            "type": "contour"
           }
          ],
          "contourcarpet": [
           {
            "colorbar": {
             "outlinewidth": 0,
             "ticks": ""
            },
            "type": "contourcarpet"
           }
          ],
          "heatmap": [
           {
            "colorbar": {
             "outlinewidth": 0,
             "ticks": ""
            },
            "colorscale": [
             [
              0,
              "#0d0887"
             ],
             [
              0.1111111111111111,
              "#46039f"
             ],
             [
              0.2222222222222222,
              "#7201a8"
             ],
             [
              0.3333333333333333,
              "#9c179e"
             ],
             [
              0.4444444444444444,
              "#bd3786"
             ],
             [
              0.5555555555555556,
              "#d8576b"
             ],
             [
              0.6666666666666666,
              "#ed7953"
             ],
             [
              0.7777777777777778,
              "#fb9f3a"
             ],
             [
              0.8888888888888888,
              "#fdca26"
             ],
             [
              1,
              "#f0f921"
             ]
            ],
            "type": "heatmap"
           }
          ],
          "heatmapgl": [
           {
            "colorbar": {
             "outlinewidth": 0,
             "ticks": ""
            },
            "colorscale": [
             [
              0,
              "#0d0887"
             ],
             [
              0.1111111111111111,
              "#46039f"
             ],
             [
              0.2222222222222222,
              "#7201a8"
             ],
             [
              0.3333333333333333,
              "#9c179e"
             ],
             [
              0.4444444444444444,
              "#bd3786"
             ],
             [
              0.5555555555555556,
              "#d8576b"
             ],
             [
              0.6666666666666666,
              "#ed7953"
             ],
             [
              0.7777777777777778,
              "#fb9f3a"
             ],
             [
              0.8888888888888888,
              "#fdca26"
             ],
             [
              1,
              "#f0f921"
             ]
            ],
            "type": "heatmapgl"
           }
          ],
          "histogram": [
           {
            "marker": {
             "pattern": {
              "fillmode": "overlay",
              "size": 10,
              "solidity": 0.2
             }
            },
            "type": "histogram"
           }
          ],
          "histogram2d": [
           {
            "colorbar": {
             "outlinewidth": 0,
             "ticks": ""
            },
            "colorscale": [
             [
              0,
              "#0d0887"
             ],
             [
              0.1111111111111111,
              "#46039f"
             ],
             [
              0.2222222222222222,
              "#7201a8"
             ],
             [
              0.3333333333333333,
              "#9c179e"
             ],
             [
              0.4444444444444444,
              "#bd3786"
             ],
             [
              0.5555555555555556,
              "#d8576b"
             ],
             [
              0.6666666666666666,
              "#ed7953"
             ],
             [
              0.7777777777777778,
              "#fb9f3a"
             ],
             [
              0.8888888888888888,
              "#fdca26"
             ],
             [
              1,
              "#f0f921"
             ]
            ],
            "type": "histogram2d"
           }
          ],
          "histogram2dcontour": [
           {
            "colorbar": {
             "outlinewidth": 0,
             "ticks": ""
            },
            "colorscale": [
             [
              0,
              "#0d0887"
             ],
             [
              0.1111111111111111,
              "#46039f"
             ],
             [
              0.2222222222222222,
              "#7201a8"
             ],
             [
              0.3333333333333333,
              "#9c179e"
             ],
             [
              0.4444444444444444,
              "#bd3786"
             ],
             [
              0.5555555555555556,
              "#d8576b"
             ],
             [
              0.6666666666666666,
              "#ed7953"
             ],
             [
              0.7777777777777778,
              "#fb9f3a"
             ],
             [
              0.8888888888888888,
              "#fdca26"
             ],
             [
              1,
              "#f0f921"
             ]
            ],
            "type": "histogram2dcontour"
           }
          ],
          "mesh3d": [
           {
            "colorbar": {
             "outlinewidth": 0,
             "ticks": ""
            },
            "type": "mesh3d"
           }
          ],
          "parcoords": [
           {
            "line": {
             "colorbar": {
              "outlinewidth": 0,
              "ticks": ""
             }
            },
            "type": "parcoords"
           }
          ],
          "pie": [
           {
            "automargin": true,
            "type": "pie"
           }
          ],
          "scatter": [
           {
            "fillpattern": {
             "fillmode": "overlay",
             "size": 10,
             "solidity": 0.2
            },
            "type": "scatter"
           }
          ],
          "scatter3d": [
           {
            "line": {
             "colorbar": {
              "outlinewidth": 0,
              "ticks": ""
             }
            },
            "marker": {
             "colorbar": {
              "outlinewidth": 0,
              "ticks": ""
             }
            },
            "type": "scatter3d"
           }
          ],
          "scattercarpet": [
           {
            "marker": {
             "colorbar": {
              "outlinewidth": 0,
              "ticks": ""
             }
            },
            "type": "scattercarpet"
           }
          ],
          "scattergeo": [
           {
            "marker": {
             "colorbar": {
              "outlinewidth": 0,
              "ticks": ""
             }
            },
            "type": "scattergeo"
           }
          ],
          "scattergl": [
           {
            "marker": {
             "colorbar": {
              "outlinewidth": 0,
              "ticks": ""
             }
            },
            "type": "scattergl"
           }
          ],
          "scattermapbox": [
           {
            "marker": {
             "colorbar": {
              "outlinewidth": 0,
              "ticks": ""
             }
            },
            "type": "scattermapbox"
           }
          ],
          "scatterpolar": [
           {
            "marker": {
             "colorbar": {
              "outlinewidth": 0,
              "ticks": ""
             }
            },
            "type": "scatterpolar"
           }
          ],
          "scatterpolargl": [
           {
            "marker": {
             "colorbar": {
              "outlinewidth": 0,
              "ticks": ""
             }
            },
            "type": "scatterpolargl"
           }
          ],
          "scatterternary": [
           {
            "marker": {
             "colorbar": {
              "outlinewidth": 0,
              "ticks": ""
             }
            },
            "type": "scatterternary"
           }
          ],
          "surface": [
           {
            "colorbar": {
             "outlinewidth": 0,
             "ticks": ""
            },
            "colorscale": [
             [
              0,
              "#0d0887"
             ],
             [
              0.1111111111111111,
              "#46039f"
             ],
             [
              0.2222222222222222,
              "#7201a8"
             ],
             [
              0.3333333333333333,
              "#9c179e"
             ],
             [
              0.4444444444444444,
              "#bd3786"
             ],
             [
              0.5555555555555556,
              "#d8576b"
             ],
             [
              0.6666666666666666,
              "#ed7953"
             ],
             [
              0.7777777777777778,
              "#fb9f3a"
             ],
             [
              0.8888888888888888,
              "#fdca26"
             ],
             [
              1,
              "#f0f921"
             ]
            ],
            "type": "surface"
           }
          ],
          "table": [
           {
            "cells": {
             "fill": {
              "color": "#EBF0F8"
             },
             "line": {
              "color": "white"
             }
            },
            "header": {
             "fill": {
              "color": "#C8D4E3"
             },
             "line": {
              "color": "white"
             }
            },
            "type": "table"
           }
          ]
         },
         "layout": {
          "annotationdefaults": {
           "arrowcolor": "#2a3f5f",
           "arrowhead": 0,
           "arrowwidth": 1
          },
          "autotypenumbers": "strict",
          "coloraxis": {
           "colorbar": {
            "outlinewidth": 0,
            "ticks": ""
           }
          },
          "colorscale": {
           "diverging": [
            [
             0,
             "#8e0152"
            ],
            [
             0.1,
             "#c51b7d"
            ],
            [
             0.2,
             "#de77ae"
            ],
            [
             0.3,
             "#f1b6da"
            ],
            [
             0.4,
             "#fde0ef"
            ],
            [
             0.5,
             "#f7f7f7"
            ],
            [
             0.6,
             "#e6f5d0"
            ],
            [
             0.7,
             "#b8e186"
            ],
            [
             0.8,
             "#7fbc41"
            ],
            [
             0.9,
             "#4d9221"
            ],
            [
             1,
             "#276419"
            ]
           ],
           "sequential": [
            [
             0,
             "#0d0887"
            ],
            [
             0.1111111111111111,
             "#46039f"
            ],
            [
             0.2222222222222222,
             "#7201a8"
            ],
            [
             0.3333333333333333,
             "#9c179e"
            ],
            [
             0.4444444444444444,
             "#bd3786"
            ],
            [
             0.5555555555555556,
             "#d8576b"
            ],
            [
             0.6666666666666666,
             "#ed7953"
            ],
            [
             0.7777777777777778,
             "#fb9f3a"
            ],
            [
             0.8888888888888888,
             "#fdca26"
            ],
            [
             1,
             "#f0f921"
            ]
           ],
           "sequentialminus": [
            [
             0,
             "#0d0887"
            ],
            [
             0.1111111111111111,
             "#46039f"
            ],
            [
             0.2222222222222222,
             "#7201a8"
            ],
            [
             0.3333333333333333,
             "#9c179e"
            ],
            [
             0.4444444444444444,
             "#bd3786"
            ],
            [
             0.5555555555555556,
             "#d8576b"
            ],
            [
             0.6666666666666666,
             "#ed7953"
            ],
            [
             0.7777777777777778,
             "#fb9f3a"
            ],
            [
             0.8888888888888888,
             "#fdca26"
            ],
            [
             1,
             "#f0f921"
            ]
           ]
          },
          "colorway": [
           "#636efa",
           "#EF553B",
           "#00cc96",
           "#ab63fa",
           "#FFA15A",
           "#19d3f3",
           "#FF6692",
           "#B6E880",
           "#FF97FF",
           "#FECB52"
          ],
          "font": {
           "color": "#2a3f5f"
          },
          "geo": {
           "bgcolor": "white",
           "lakecolor": "white",
           "landcolor": "#E5ECF6",
           "showlakes": true,
           "showland": true,
           "subunitcolor": "white"
          },
          "hoverlabel": {
           "align": "left"
          },
          "hovermode": "closest",
          "mapbox": {
           "style": "light"
          },
          "paper_bgcolor": "white",
          "plot_bgcolor": "#E5ECF6",
          "polar": {
           "angularaxis": {
            "gridcolor": "white",
            "linecolor": "white",
            "ticks": ""
           },
           "bgcolor": "#E5ECF6",
           "radialaxis": {
            "gridcolor": "white",
            "linecolor": "white",
            "ticks": ""
           }
          },
          "scene": {
           "xaxis": {
            "backgroundcolor": "#E5ECF6",
            "gridcolor": "white",
            "gridwidth": 2,
            "linecolor": "white",
            "showbackground": true,
            "ticks": "",
            "zerolinecolor": "white"
           },
           "yaxis": {
            "backgroundcolor": "#E5ECF6",
            "gridcolor": "white",
            "gridwidth": 2,
            "linecolor": "white",
            "showbackground": true,
            "ticks": "",
            "zerolinecolor": "white"
           },
           "zaxis": {
            "backgroundcolor": "#E5ECF6",
            "gridcolor": "white",
            "gridwidth": 2,
            "linecolor": "white",
            "showbackground": true,
            "ticks": "",
            "zerolinecolor": "white"
           }
          },
          "shapedefaults": {
           "line": {
            "color": "#2a3f5f"
           }
          },
          "ternary": {
           "aaxis": {
            "gridcolor": "white",
            "linecolor": "white",
            "ticks": ""
           },
           "baxis": {
            "gridcolor": "white",
            "linecolor": "white",
            "ticks": ""
           },
           "bgcolor": "#E5ECF6",
           "caxis": {
            "gridcolor": "white",
            "linecolor": "white",
            "ticks": ""
           }
          },
          "title": {
           "x": 0.05
          },
          "xaxis": {
           "automargin": true,
           "gridcolor": "white",
           "linecolor": "white",
           "ticks": "",
           "title": {
            "standoff": 15
           },
           "zerolinecolor": "white",
           "zerolinewidth": 2
          },
          "yaxis": {
           "automargin": true,
           "gridcolor": "white",
           "linecolor": "white",
           "ticks": "",
           "title": {
            "standoff": 15
           },
           "zerolinecolor": "white",
           "zerolinewidth": 2
          }
         }
        },
        "xaxis": {
         "anchor": "y",
         "domain": [
          0,
          1
         ],
         "title": {
          "text": "sex"
         }
        },
        "yaxis": {
         "anchor": "x",
         "domain": [
          0,
          1
         ],
         "title": {
          "text": "total_bill"
         }
        }
       }
      }
     },
     "metadata": {},
     "output_type": "display_data"
    }
   ],
   "source": [
    "import plotly.express as px\n",
    "df = px.data.tips()\n",
    "print(df)\n",
    "fig = px.bar(df, x=\"sex\", y=\"total_bill\", color='time')\n",
    "fig.show()"
   ]
  },
  {
   "cell_type": "code",
   "execution_count": null,
   "metadata": {},
   "outputs": [],
   "source": [
    "shp_file = gpd.read_file('/Users/gclyne/Downloads/Tembe_shp/Tembe_Reserve.shp', crs='EPSG:4326')\n",
    "region = ee.Geometry.Polygon(shp_to_ee_fmt(shp_file,0))\n",
    "\n",
    "probabilityBands = [\n",
    "  'water', 'trees', 'grass', 'flooded_vegetation', 'crops', 'shrub_and_scrub',\n",
    "  'built', 'bare', 'snow_and_ice'\n",
    "]\n",
    "dw = ee.ImageCollection('GOOGLE/DYNAMICWORLD/V1').filterDate('2019-01-01','2020-01-01').filterBounds(region).select(probabilityBands)\n",
    "\n",
    "data = tools.imagecollection.getValues(\n",
    "collection=dw,\n",
    "geometry=region,\n",
    "reducer=ee.Reducer.frequencyHistogram(),\n",
    "scale=1,\n",
    "maxPixels=1e8,\n",
    "side='client',\n",
    "bestEffort=True)\n",
    "\n",
    "import plotly.express as px\n"
   ]
  },
  {
   "cell_type": "code",
   "execution_count": null,
   "metadata": {},
   "outputs": [],
   "source": [
    "data\n",
    "\n",
    "for x in data:\n",
    "    print(data[x]['label'])\n",
    "    xdatapandas = tools.imagecollection.data2pandas(data[x])\n",
    "    print(xdatapandas)"
   ]
  },
  {
   "cell_type": "code",
   "execution_count": 16,
   "metadata": {},
   "outputs": [
    {
     "name": "stdout",
     "output_type": "stream",
     "text": [
      "IMAGE HERE\n"
     ]
    }
   ],
   "source": [
    "shape_file = '/Users/gclyne/Downloads/Tembe_shp/Tembe_Reserve.shp'\n",
    "start_date = '2021-01-01'\n",
    "end_date = '2021-12-31'\n",
    "shp_file = gpd.read_file('/Users/gclyne/Downloads/RFCx_GQ_Shapefiles/Tembe_Reserve_sites_Buffer1k.shp', crs='EPSG:4326')\n",
    "shp_file_1 = gpd.read_file('/Users/gclyne/Downloads/Tembe_shp/Tembe_Reserve.shp',crs='EPSG:4326')\n",
    "region_whole = get_whole_region(shp_file_1)\n",
    "region_sites = get_whole_region(shp_file)\n",
    "file_name = shape_file.split('/')[-1].split('.')[0]\n",
    "\n",
    "features = ee.FeatureCollection('projects/ee-clynegraham/assets/Tembe_Reserve_sites_Buffer1k')\n",
    "dw = ee.ImageCollection('GOOGLE/DYNAMICWORLD/V1').filterDate(start_date,end_date).filterBounds(region_whole).select('label')\n",
    "dwImage = ee.Image(dw.mode()).clip(region_whole) #here we use mode reduction, takes the most common pixel value over time period\n",
    "classification = dwImage.select('label')\n",
    "dwVisParams = {'min': 0,'max': 8,'palette': ['#419BDF', '#397D49', '#88B053', '#7A87C6', '#E49635', '#DFC35A','#C4281B', '#A59B8F', '#B39FE1'],'opacity':1}\n",
    "my_map = folium.Map(location=[region_sites.getInfo()['coordinates'][0][0][0][1],region_sites.getInfo()['coordinates'][0][0][0][0]], zoom_start=13, height=500)\n",
    "\n",
    "s2VisParams = {'bands': ['B4', 'B3', 'B2'], 'min': 0, 'max': 3000}\n",
    "my_map.add_ee_layer(classification, dwVisParams, 'Classified Image')\n",
    "\n",
    "my_map.add_ee_layer(features,{},'1km buffers')\n",
    "my_map.save(file_name + '_dw.html')"
   ]
  },
  {
   "cell_type": "code",
   "execution_count": null,
   "metadata": {},
   "outputs": [],
   "source": [
    "def gfc_yearly_csv(shp_file,start,end):\n",
    "    region = ee.Geometry.Polygon(shp_to_ee_fmt(geodf,index))\n",
    "\n",
    "    cc = ee.Number(10)\n",
    "    gfc2021 = ee.Image('UMD/hansen/global_forest_change_2021_v1_9')\n",
    "    canopyCover = gfc2021.select(['treecover2000'])\n",
    "    canopyCover10 = canopyCover.gte(cc).selfMask()\n",
    "    forestSize = canopyCover10.reduceRegion(\n",
    "        reducer= ee.Reducer.sum(),\n",
    "        geometry= region,\n",
    "        scale= 1,\n",
    "        maxPixels= 1e9,\n",
    "        bestEffort=True)\n",
    "\n",
    "    forest_size = list(forestSize.getInfo().values())[0]\n",
    "\n",
    "    treeLoss = gfc2021.select(['lossyear'])\n",
    "    losses = []\n",
    "    gfc2021.select(['gain']);\n",
    "    for i in range(1,int(ee.Date(end).format('YY').getInfo())):\n",
    "    # for i in range(1,3):\n",
    "        print(f'calculating year {i}')\n",
    "        treeLoss01 = treeLoss.eq(i).selfMask()\n",
    "        treecoverLoss01 = canopyCover10.And(treeLoss01).rename('loss' + str(i)).selfMask()\n",
    "        lossSize = treecoverLoss01.reduceRegion(\n",
    "            reducer= ee.Reducer.sum(),\n",
    "            geometry=region,\n",
    "            scale= 1,\n",
    "            maxPixels= 1e9,\n",
    "            bestEffort=True\n",
    "        )\n",
    "        losses.append(list(lossSize.getInfo().values())[0])\n",
    "        print(losses)\n",
    "    gains = gfc2021.select(['gain'])\n",
    "    gains_summed = gains.reduceRegion(\n",
    "        reducer= ee.Reducer.sum(),\n",
    "        geometry= region,\n",
    "        scale= 1,\n",
    "        maxPixels= 1e9,\n",
    "        bestEffort=True);\n",
    "    gains = gains_summed.getInfo()['gain'] \n",
    "    losses = np.array(losses) \n",
    "    losses[0] = losses[0] - gains\n",
    "    result = []\n",
    "    for i in range(len(losses)):\n",
    "        total_cover = (forest_size - sum(losses[0:i])) / forest_size \n",
    "        result.append(total_cover)\n",
    "    pd.DataFrame(result).to_csv('gfc_stats.csv')"
   ]
  }
 ],
 "metadata": {
  "kernelspec": {
   "display_name": "Python 3.8.10 64-bit",
   "language": "python",
   "name": "python3"
  },
  "language_info": {
   "codemirror_mode": {
    "name": "ipython",
    "version": 3
   },
   "file_extension": ".py",
   "mimetype": "text/x-python",
   "name": "python",
   "nbconvert_exporter": "python",
   "pygments_lexer": "ipython3",
   "version": "3.9.1"
  },
  "orig_nbformat": 4,
  "vscode": {
   "interpreter": {
    "hash": "916dbcbb3f70747c44a77c7bcd40155683ae19c65e1c03b4aa3499c5328201f1"
   }
  }
 },
 "nbformat": 4,
 "nbformat_minor": 2
}
