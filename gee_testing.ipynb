{
 "cells": [
  {
   "cell_type": "code",
   "execution_count": 4,
   "metadata": {},
   "outputs": [],
   "source": [
    "import ee\n",
    "import numpy as np\n",
    "import folium\n",
    "import json\n",
    "from util import shp_to_ee_fmt,add_ee_layer,get_whole_region\n",
    "import time \n",
    "from geetools import tools\n",
    "import geopandas as gpd\n",
    "import pandas as pd\n",
    "from yearly_bar_plot_tree_cover import pixel_stats_dynamic_world,plot_multiple_bar_from_dict,pixel_stats_world_cover,pixel_stats_global_forest_watch\n",
    "from constants import * \n",
    "import matplotlib.pyplot as plt\n",
    "\n",
    "\n",
    "try:     \n",
    "    ee.Initialize()\n",
    "except:\n",
    "    ee.Authenticate()\n",
    "    ee.Initialize()"
   ]
  },
  {
   "cell_type": "code",
   "execution_count": 195,
   "metadata": {},
   "outputs": [
    {
     "name": "stdout",
     "output_type": "stream",
     "text": [
      "processing image: 0\n",
      "processing image: 1\n"
     ]
    }
   ],
   "source": [
    "# TO EXPROT CSV OF YEAR FOR EACH REGION WITH WC\n",
    "\n",
    "\n",
    "shape_file = '/Users/gclyne/Downloads/rfcx_sensor_placement/Graham_Amazon/Bacajai_JP1.shp'\n",
    "file_name = shape_file.split('/')[-1].split('.')[0]\n",
    "start_date = '2017-01-01'\n",
    "end_date = '2021-01-01'\n",
    "shp_file = gpd.read_file(shape_file, crs='EPSG:4326')\n",
    "trees = []\n",
    "data = json.loads(shp_file.to_json())\n",
    "\n",
    "    #for each feature in image, get monthly avg and get band values\n",
    "for index in range(len(data['features'])):\n",
    "    print(f'processing image: {index}')\n",
    "    # #get image of region\n",
    "    region = ee.Geometry.Polygon(shp_to_ee_fmt(shp_file,index))\n",
    "\n",
    "    dataset = ee.ImageCollection(\"ESA/WorldCover/v100\").first().clip(region)\n",
    "    pixelCountStats = dataset.reduceRegion(reducer=ee.Reducer.frequencyHistogram(),geometry=region,bestEffort=True,maxPixels=1e8,scale=10)\n",
    "    total = sum(pixelCountStats.getInfo()['Map'].values())\n",
    "\n",
    "    output = pixelCountStats.getInfo()['Map']['10'] / total\n",
    "    # for key,value in data.items():\n",
    "    #     print(key,value)\n",
    "    #     sum = 0\n",
    "    #     for val in value['label'].values():\n",
    "    #         print(val)\n",
    "    #         sum = sum + val\n",
    "    #     new_dict[key] = {'1':value['label']['1'] / sum}\n",
    "    # # print(new_dict)\n",
    "    # datas.append(new_dict)\n",
    "    trees.append(output)\n",
    "df_wc = pd.DataFrame({'id':range(len(data['features'])),'2020':trees})\n",
    "df_wc\n",
    "df_wc.to_csv('wc_2020_tembe.csv')\n",
    "\n",
    "# pixelCountStats = dw.reduceRegion(reducer=ee.Reducer.frequencyHistogram(),geometry=region,bestEffort=True,maxPixels=1e8,scale=1)\n",
    "# output = pixelCountStats.getInfo()\n",
    "# print(output)\n",
    "#"
   ]
  },
  {
   "cell_type": "code",
   "execution_count": 89,
   "metadata": {},
   "outputs": [
    {
     "data": {
      "text/html": [
       "<div>\n",
       "<style scoped>\n",
       "    .dataframe tbody tr th:only-of-type {\n",
       "        vertical-align: middle;\n",
       "    }\n",
       "\n",
       "    .dataframe tbody tr th {\n",
       "        vertical-align: top;\n",
       "    }\n",
       "\n",
       "    .dataframe thead th {\n",
       "        text-align: right;\n",
       "    }\n",
       "</style>\n",
       "<table border=\"1\" class=\"dataframe\">\n",
       "  <thead>\n",
       "    <tr style=\"text-align: right;\">\n",
       "      <th></th>\n",
       "      <th>2017</th>\n",
       "      <th>2018</th>\n",
       "      <th>2019</th>\n",
       "      <th>2020</th>\n",
       "    </tr>\n",
       "    <tr>\n",
       "      <th>id</th>\n",
       "      <th></th>\n",
       "      <th></th>\n",
       "      <th></th>\n",
       "      <th></th>\n",
       "    </tr>\n",
       "  </thead>\n",
       "  <tbody>\n",
       "    <tr>\n",
       "      <th>0</th>\n",
       "      <td>0.758592</td>\n",
       "      <td>0.758911</td>\n",
       "      <td>0.752994</td>\n",
       "      <td>0.765678</td>\n",
       "    </tr>\n",
       "    <tr>\n",
       "      <th>1</th>\n",
       "      <td>0.746441</td>\n",
       "      <td>0.748631</td>\n",
       "      <td>0.750771</td>\n",
       "      <td>0.740572</td>\n",
       "    </tr>\n",
       "    <tr>\n",
       "      <th>2</th>\n",
       "      <td>0.758592</td>\n",
       "      <td>0.758911</td>\n",
       "      <td>0.752994</td>\n",
       "      <td>0.765678</td>\n",
       "    </tr>\n",
       "    <tr>\n",
       "      <th>3</th>\n",
       "      <td>0.746441</td>\n",
       "      <td>0.748631</td>\n",
       "      <td>0.750771</td>\n",
       "      <td>0.740572</td>\n",
       "    </tr>\n",
       "    <tr>\n",
       "      <th>4</th>\n",
       "      <td>0.758592</td>\n",
       "      <td>0.758911</td>\n",
       "      <td>0.752994</td>\n",
       "      <td>0.765678</td>\n",
       "    </tr>\n",
       "    <tr>\n",
       "      <th>5</th>\n",
       "      <td>0.746441</td>\n",
       "      <td>0.748631</td>\n",
       "      <td>0.750771</td>\n",
       "      <td>0.740572</td>\n",
       "    </tr>\n",
       "    <tr>\n",
       "      <th>6</th>\n",
       "      <td>0.758592</td>\n",
       "      <td>0.758911</td>\n",
       "      <td>0.752994</td>\n",
       "      <td>0.765678</td>\n",
       "    </tr>\n",
       "    <tr>\n",
       "      <th>7</th>\n",
       "      <td>0.746441</td>\n",
       "      <td>0.748631</td>\n",
       "      <td>0.750771</td>\n",
       "      <td>0.740572</td>\n",
       "    </tr>\n",
       "    <tr>\n",
       "      <th>8</th>\n",
       "      <td>0.758592</td>\n",
       "      <td>0.758911</td>\n",
       "      <td>0.752994</td>\n",
       "      <td>0.765678</td>\n",
       "    </tr>\n",
       "    <tr>\n",
       "      <th>9</th>\n",
       "      <td>0.746441</td>\n",
       "      <td>0.748631</td>\n",
       "      <td>0.750771</td>\n",
       "      <td>0.740572</td>\n",
       "    </tr>\n",
       "  </tbody>\n",
       "</table>\n",
       "</div>"
      ],
      "text/plain": [
       "        2017      2018      2019      2020\n",
       "id                                        \n",
       "0   0.758592  0.758911  0.752994  0.765678\n",
       "1   0.746441  0.748631  0.750771  0.740572\n",
       "2   0.758592  0.758911  0.752994  0.765678\n",
       "3   0.746441  0.748631  0.750771  0.740572\n",
       "4   0.758592  0.758911  0.752994  0.765678\n",
       "5   0.746441  0.748631  0.750771  0.740572\n",
       "6   0.758592  0.758911  0.752994  0.765678\n",
       "7   0.746441  0.748631  0.750771  0.740572\n",
       "8   0.758592  0.758911  0.752994  0.765678\n",
       "9   0.746441  0.748631  0.750771  0.740572"
      ]
     },
     "execution_count": 89,
     "metadata": {},
     "output_type": "execute_result"
    }
   ],
   "source": [
    "#make CSV for GFC \n",
    "\n",
    "shape_file = '/Users/gclyne/Downloads/rfcx_sensor_placement/Graham_Amazon/Bacajai_JP1.shp'\n",
    "file_name = shape_file.split('/')[-1].split('.')[0]\n",
    "start_date = '2017-01-01'\n",
    "end_date = '2021-01-01'\n",
    "shp_file = gpd.read_file(shape_file, crs='EPSG:4326')\n",
    "trees = []\n",
    "data = json.loads(shp_file.to_json())\n",
    "\n",
    "    #for each feature in image, get monthly avg and get band values\n",
    "for index in range(len(data['features'])):\n",
    "    print(f'processing image: {index}')\n",
    "    # #get image of region\n",
    "    region = ee.Geometry.Polygon(shp_to_ee_fmt(shp_file,index))\n",
    "\n",
    "    dataset = ee.ImageCollection(\"UMD/hansen/global_forest_change_2021_v1_9\").first().clip(region)\n",
    "    pixelCountStats = dataset.reduceRegion(reducer=ee.Reducer.frequencyHistogram(),geometry=region,bestEffort=True,maxPixels=1e8,scale=10)\n",
    "    total = sum(pixelCountStats.getInfo()['Map'].values())\n",
    "\n",
    "    output = pixelCountStats.getInfo()['Map']['10'] / total\n",
    "    # for key,value in data.items():\n",
    "    #     print(key,value)\n",
    "    #     sum = 0\n",
    "    #     for val in value['label'].values():\n",
    "    #         print(val)\n",
    "    #         sum = sum + val\n",
    "    #     new_dict[key] = {'1':value['label']['1'] / sum}\n",
    "    # # print(new_dict)\n",
    "    # datas.append(new_dict)\n",
    "    trees.append(output)\n",
    "df_wc = pd.DataFrame({'id':range(len(data['features'])),'2020':trees})\n",
    "df_wc\n",
    "df_wc.to_csv('wc_2020_tembe.csv')"
   ]
  },
  {
   "cell_type": "code",
   "execution_count": 91,
   "metadata": {},
   "outputs": [
    {
     "data": {
      "application/vnd.plotly.v1+json": {
       "config": {
        "plotlyServerURL": "https://plot.ly"
       },
       "data": [
        {
         "alignmentgroup": "True",
         "hovertemplate": "variable=2017<br>id=%{x}<br>value=%{y}<extra></extra>",
         "legendgroup": "2017",
         "marker": {
          "color": "#636efa",
          "pattern": {
           "shape": ""
          }
         },
         "name": "2017",
         "offsetgroup": "2017",
         "orientation": "v",
         "showlegend": true,
         "textposition": "auto",
         "type": "bar",
         "x": [
          0,
          1,
          2,
          3,
          4,
          5,
          6,
          7,
          8,
          9
         ],
         "xaxis": "x",
         "y": [
          0.7585916668176651,
          0.7464405244681984,
          0.7585916668176651,
          0.7464405244681984,
          0.7585916668176651,
          0.7464405244681984,
          0.7585916668176651,
          0.7464405244681984,
          0.7585916668176651,
          0.7464405244681984
         ],
         "yaxis": "y"
        },
        {
         "alignmentgroup": "True",
         "hovertemplate": "variable=2018<br>id=%{x}<br>value=%{y}<extra></extra>",
         "legendgroup": "2018",
         "marker": {
          "color": "#EF553B",
          "pattern": {
           "shape": ""
          }
         },
         "name": "2018",
         "offsetgroup": "2018",
         "orientation": "v",
         "showlegend": true,
         "textposition": "auto",
         "type": "bar",
         "x": [
          0,
          1,
          2,
          3,
          4,
          5,
          6,
          7,
          8,
          9
         ],
         "xaxis": "x",
         "y": [
          0.7589106597006321,
          0.7486305236816406,
          0.7589106597006321,
          0.7486305236816406,
          0.7589106597006321,
          0.7486305236816406,
          0.7589106597006321,
          0.7486305236816406,
          0.7589106597006321,
          0.7486305236816406
         ],
         "yaxis": "y"
        },
        {
         "alignmentgroup": "True",
         "hovertemplate": "variable=2019<br>id=%{x}<br>value=%{y}<extra></extra>",
         "legendgroup": "2019",
         "marker": {
          "color": "#00cc96",
          "pattern": {
           "shape": ""
          }
         },
         "name": "2019",
         "offsetgroup": "2019",
         "orientation": "v",
         "showlegend": true,
         "textposition": "auto",
         "type": "bar",
         "x": [
          0,
          1,
          2,
          3,
          4,
          5,
          6,
          7,
          8,
          9
         ],
         "xaxis": "x",
         "y": [
          0.7529936640057713,
          0.750770844751969,
          0.7529936640057713,
          0.750770844751969,
          0.7529936640057713,
          0.750770844751969,
          0.7529936640057713,
          0.750770844751969,
          0.7529936640057713,
          0.750770844751969
         ],
         "yaxis": "y"
        },
        {
         "alignmentgroup": "True",
         "hovertemplate": "variable=2020<br>id=%{x}<br>value=%{y}<extra></extra>",
         "legendgroup": "2020",
         "marker": {
          "color": "#ab63fa",
          "pattern": {
           "shape": ""
          }
         },
         "name": "2020",
         "offsetgroup": "2020",
         "orientation": "v",
         "showlegend": true,
         "textposition": "auto",
         "type": "bar",
         "x": [
          0,
          1,
          2,
          3,
          4,
          5,
          6,
          7,
          8,
          9
         ],
         "xaxis": "x",
         "y": [
          0.7656784066930413,
          0.7405724385753274,
          0.7656784066930413,
          0.7405724385753274,
          0.7656784066930413,
          0.7405724385753274,
          0.7656784066930413,
          0.7405724385753274,
          0.7656784066930413,
          0.7405724385753274
         ],
         "yaxis": "y"
        }
       ],
       "layout": {
        "barmode": "group",
        "legend": {
         "title": {
          "text": "variable"
         },
         "tracegroupgap": 0
        },
        "margin": {
         "t": 60
        },
        "template": {
         "data": {
          "bar": [
           {
            "error_x": {
             "color": "#2a3f5f"
            },
            "error_y": {
             "color": "#2a3f5f"
            },
            "marker": {
             "line": {
              "color": "#E5ECF6",
              "width": 0.5
             },
             "pattern": {
              "fillmode": "overlay",
              "size": 10,
              "solidity": 0.2
             }
            },
            "type": "bar"
           }
          ],
          "barpolar": [
           {
            "marker": {
             "line": {
              "color": "#E5ECF6",
              "width": 0.5
             },
             "pattern": {
              "fillmode": "overlay",
              "size": 10,
              "solidity": 0.2
             }
            },
            "type": "barpolar"
           }
          ],
          "carpet": [
           {
            "aaxis": {
             "endlinecolor": "#2a3f5f",
             "gridcolor": "white",
             "linecolor": "white",
             "minorgridcolor": "white",
             "startlinecolor": "#2a3f5f"
            },
            "baxis": {
             "endlinecolor": "#2a3f5f",
             "gridcolor": "white",
             "linecolor": "white",
             "minorgridcolor": "white",
             "startlinecolor": "#2a3f5f"
            },
            "type": "carpet"
           }
          ],
          "choropleth": [
           {
            "colorbar": {
             "outlinewidth": 0,
             "ticks": ""
            },
            "type": "choropleth"
           }
          ],
          "contour": [
           {
            "colorbar": {
             "outlinewidth": 0,
             "ticks": ""
            },
            "colorscale": [
             [
              0,
              "#0d0887"
             ],
             [
              0.1111111111111111,
              "#46039f"
             ],
             [
              0.2222222222222222,
              "#7201a8"
             ],
             [
              0.3333333333333333,
              "#9c179e"
             ],
             [
              0.4444444444444444,
              "#bd3786"
             ],
             [
              0.5555555555555556,
              "#d8576b"
             ],
             [
              0.6666666666666666,
              "#ed7953"
             ],
             [
              0.7777777777777778,
              "#fb9f3a"
             ],
             [
              0.8888888888888888,
              "#fdca26"
             ],
             [
              1,
              "#f0f921"
             ]
            ],
            "type": "contour"
           }
          ],
          "contourcarpet": [
           {
            "colorbar": {
             "outlinewidth": 0,
             "ticks": ""
            },
            "type": "contourcarpet"
           }
          ],
          "heatmap": [
           {
            "colorbar": {
             "outlinewidth": 0,
             "ticks": ""
            },
            "colorscale": [
             [
              0,
              "#0d0887"
             ],
             [
              0.1111111111111111,
              "#46039f"
             ],
             [
              0.2222222222222222,
              "#7201a8"
             ],
             [
              0.3333333333333333,
              "#9c179e"
             ],
             [
              0.4444444444444444,
              "#bd3786"
             ],
             [
              0.5555555555555556,
              "#d8576b"
             ],
             [
              0.6666666666666666,
              "#ed7953"
             ],
             [
              0.7777777777777778,
              "#fb9f3a"
             ],
             [
              0.8888888888888888,
              "#fdca26"
             ],
             [
              1,
              "#f0f921"
             ]
            ],
            "type": "heatmap"
           }
          ],
          "heatmapgl": [
           {
            "colorbar": {
             "outlinewidth": 0,
             "ticks": ""
            },
            "colorscale": [
             [
              0,
              "#0d0887"
             ],
             [
              0.1111111111111111,
              "#46039f"
             ],
             [
              0.2222222222222222,
              "#7201a8"
             ],
             [
              0.3333333333333333,
              "#9c179e"
             ],
             [
              0.4444444444444444,
              "#bd3786"
             ],
             [
              0.5555555555555556,
              "#d8576b"
             ],
             [
              0.6666666666666666,
              "#ed7953"
             ],
             [
              0.7777777777777778,
              "#fb9f3a"
             ],
             [
              0.8888888888888888,
              "#fdca26"
             ],
             [
              1,
              "#f0f921"
             ]
            ],
            "type": "heatmapgl"
           }
          ],
          "histogram": [
           {
            "marker": {
             "pattern": {
              "fillmode": "overlay",
              "size": 10,
              "solidity": 0.2
             }
            },
            "type": "histogram"
           }
          ],
          "histogram2d": [
           {
            "colorbar": {
             "outlinewidth": 0,
             "ticks": ""
            },
            "colorscale": [
             [
              0,
              "#0d0887"
             ],
             [
              0.1111111111111111,
              "#46039f"
             ],
             [
              0.2222222222222222,
              "#7201a8"
             ],
             [
              0.3333333333333333,
              "#9c179e"
             ],
             [
              0.4444444444444444,
              "#bd3786"
             ],
             [
              0.5555555555555556,
              "#d8576b"
             ],
             [
              0.6666666666666666,
              "#ed7953"
             ],
             [
              0.7777777777777778,
              "#fb9f3a"
             ],
             [
              0.8888888888888888,
              "#fdca26"
             ],
             [
              1,
              "#f0f921"
             ]
            ],
            "type": "histogram2d"
           }
          ],
          "histogram2dcontour": [
           {
            "colorbar": {
             "outlinewidth": 0,
             "ticks": ""
            },
            "colorscale": [
             [
              0,
              "#0d0887"
             ],
             [
              0.1111111111111111,
              "#46039f"
             ],
             [
              0.2222222222222222,
              "#7201a8"
             ],
             [
              0.3333333333333333,
              "#9c179e"
             ],
             [
              0.4444444444444444,
              "#bd3786"
             ],
             [
              0.5555555555555556,
              "#d8576b"
             ],
             [
              0.6666666666666666,
              "#ed7953"
             ],
             [
              0.7777777777777778,
              "#fb9f3a"
             ],
             [
              0.8888888888888888,
              "#fdca26"
             ],
             [
              1,
              "#f0f921"
             ]
            ],
            "type": "histogram2dcontour"
           }
          ],
          "mesh3d": [
           {
            "colorbar": {
             "outlinewidth": 0,
             "ticks": ""
            },
            "type": "mesh3d"
           }
          ],
          "parcoords": [
           {
            "line": {
             "colorbar": {
              "outlinewidth": 0,
              "ticks": ""
             }
            },
            "type": "parcoords"
           }
          ],
          "pie": [
           {
            "automargin": true,
            "type": "pie"
           }
          ],
          "scatter": [
           {
            "fillpattern": {
             "fillmode": "overlay",
             "size": 10,
             "solidity": 0.2
            },
            "type": "scatter"
           }
          ],
          "scatter3d": [
           {
            "line": {
             "colorbar": {
              "outlinewidth": 0,
              "ticks": ""
             }
            },
            "marker": {
             "colorbar": {
              "outlinewidth": 0,
              "ticks": ""
             }
            },
            "type": "scatter3d"
           }
          ],
          "scattercarpet": [
           {
            "marker": {
             "colorbar": {
              "outlinewidth": 0,
              "ticks": ""
             }
            },
            "type": "scattercarpet"
           }
          ],
          "scattergeo": [
           {
            "marker": {
             "colorbar": {
              "outlinewidth": 0,
              "ticks": ""
             }
            },
            "type": "scattergeo"
           }
          ],
          "scattergl": [
           {
            "marker": {
             "colorbar": {
              "outlinewidth": 0,
              "ticks": ""
             }
            },
            "type": "scattergl"
           }
          ],
          "scattermapbox": [
           {
            "marker": {
             "colorbar": {
              "outlinewidth": 0,
              "ticks": ""
             }
            },
            "type": "scattermapbox"
           }
          ],
          "scatterpolar": [
           {
            "marker": {
             "colorbar": {
              "outlinewidth": 0,
              "ticks": ""
             }
            },
            "type": "scatterpolar"
           }
          ],
          "scatterpolargl": [
           {
            "marker": {
             "colorbar": {
              "outlinewidth": 0,
              "ticks": ""
             }
            },
            "type": "scatterpolargl"
           }
          ],
          "scatterternary": [
           {
            "marker": {
             "colorbar": {
              "outlinewidth": 0,
              "ticks": ""
             }
            },
            "type": "scatterternary"
           }
          ],
          "surface": [
           {
            "colorbar": {
             "outlinewidth": 0,
             "ticks": ""
            },
            "colorscale": [
             [
              0,
              "#0d0887"
             ],
             [
              0.1111111111111111,
              "#46039f"
             ],
             [
              0.2222222222222222,
              "#7201a8"
             ],
             [
              0.3333333333333333,
              "#9c179e"
             ],
             [
              0.4444444444444444,
              "#bd3786"
             ],
             [
              0.5555555555555556,
              "#d8576b"
             ],
             [
              0.6666666666666666,
              "#ed7953"
             ],
             [
              0.7777777777777778,
              "#fb9f3a"
             ],
             [
              0.8888888888888888,
              "#fdca26"
             ],
             [
              1,
              "#f0f921"
             ]
            ],
            "type": "surface"
           }
          ],
          "table": [
           {
            "cells": {
             "fill": {
              "color": "#EBF0F8"
             },
             "line": {
              "color": "white"
             }
            },
            "header": {
             "fill": {
              "color": "#C8D4E3"
             },
             "line": {
              "color": "white"
             }
            },
            "type": "table"
           }
          ]
         },
         "layout": {
          "annotationdefaults": {
           "arrowcolor": "#2a3f5f",
           "arrowhead": 0,
           "arrowwidth": 1
          },
          "autotypenumbers": "strict",
          "coloraxis": {
           "colorbar": {
            "outlinewidth": 0,
            "ticks": ""
           }
          },
          "colorscale": {
           "diverging": [
            [
             0,
             "#8e0152"
            ],
            [
             0.1,
             "#c51b7d"
            ],
            [
             0.2,
             "#de77ae"
            ],
            [
             0.3,
             "#f1b6da"
            ],
            [
             0.4,
             "#fde0ef"
            ],
            [
             0.5,
             "#f7f7f7"
            ],
            [
             0.6,
             "#e6f5d0"
            ],
            [
             0.7,
             "#b8e186"
            ],
            [
             0.8,
             "#7fbc41"
            ],
            [
             0.9,
             "#4d9221"
            ],
            [
             1,
             "#276419"
            ]
           ],
           "sequential": [
            [
             0,
             "#0d0887"
            ],
            [
             0.1111111111111111,
             "#46039f"
            ],
            [
             0.2222222222222222,
             "#7201a8"
            ],
            [
             0.3333333333333333,
             "#9c179e"
            ],
            [
             0.4444444444444444,
             "#bd3786"
            ],
            [
             0.5555555555555556,
             "#d8576b"
            ],
            [
             0.6666666666666666,
             "#ed7953"
            ],
            [
             0.7777777777777778,
             "#fb9f3a"
            ],
            [
             0.8888888888888888,
             "#fdca26"
            ],
            [
             1,
             "#f0f921"
            ]
           ],
           "sequentialminus": [
            [
             0,
             "#0d0887"
            ],
            [
             0.1111111111111111,
             "#46039f"
            ],
            [
             0.2222222222222222,
             "#7201a8"
            ],
            [
             0.3333333333333333,
             "#9c179e"
            ],
            [
             0.4444444444444444,
             "#bd3786"
            ],
            [
             0.5555555555555556,
             "#d8576b"
            ],
            [
             0.6666666666666666,
             "#ed7953"
            ],
            [
             0.7777777777777778,
             "#fb9f3a"
            ],
            [
             0.8888888888888888,
             "#fdca26"
            ],
            [
             1,
             "#f0f921"
            ]
           ]
          },
          "colorway": [
           "#636efa",
           "#EF553B",
           "#00cc96",
           "#ab63fa",
           "#FFA15A",
           "#19d3f3",
           "#FF6692",
           "#B6E880",
           "#FF97FF",
           "#FECB52"
          ],
          "font": {
           "color": "#2a3f5f"
          },
          "geo": {
           "bgcolor": "white",
           "lakecolor": "white",
           "landcolor": "#E5ECF6",
           "showlakes": true,
           "showland": true,
           "subunitcolor": "white"
          },
          "hoverlabel": {
           "align": "left"
          },
          "hovermode": "closest",
          "mapbox": {
           "style": "light"
          },
          "paper_bgcolor": "white",
          "plot_bgcolor": "#E5ECF6",
          "polar": {
           "angularaxis": {
            "gridcolor": "white",
            "linecolor": "white",
            "ticks": ""
           },
           "bgcolor": "#E5ECF6",
           "radialaxis": {
            "gridcolor": "white",
            "linecolor": "white",
            "ticks": ""
           }
          },
          "scene": {
           "xaxis": {
            "backgroundcolor": "#E5ECF6",
            "gridcolor": "white",
            "gridwidth": 2,
            "linecolor": "white",
            "showbackground": true,
            "ticks": "",
            "zerolinecolor": "white"
           },
           "yaxis": {
            "backgroundcolor": "#E5ECF6",
            "gridcolor": "white",
            "gridwidth": 2,
            "linecolor": "white",
            "showbackground": true,
            "ticks": "",
            "zerolinecolor": "white"
           },
           "zaxis": {
            "backgroundcolor": "#E5ECF6",
            "gridcolor": "white",
            "gridwidth": 2,
            "linecolor": "white",
            "showbackground": true,
            "ticks": "",
            "zerolinecolor": "white"
           }
          },
          "shapedefaults": {
           "line": {
            "color": "#2a3f5f"
           }
          },
          "ternary": {
           "aaxis": {
            "gridcolor": "white",
            "linecolor": "white",
            "ticks": ""
           },
           "baxis": {
            "gridcolor": "white",
            "linecolor": "white",
            "ticks": ""
           },
           "bgcolor": "#E5ECF6",
           "caxis": {
            "gridcolor": "white",
            "linecolor": "white",
            "ticks": ""
           }
          },
          "title": {
           "x": 0.05
          },
          "xaxis": {
           "automargin": true,
           "gridcolor": "white",
           "linecolor": "white",
           "ticks": "",
           "title": {
            "standoff": 15
           },
           "zerolinecolor": "white",
           "zerolinewidth": 2
          },
          "yaxis": {
           "automargin": true,
           "gridcolor": "white",
           "linecolor": "white",
           "ticks": "",
           "title": {
            "standoff": 15
           },
           "zerolinecolor": "white",
           "zerolinewidth": 2
          }
         }
        },
        "xaxis": {
         "anchor": "y",
         "domain": [
          0,
          1
         ],
         "title": {
          "text": "id"
         }
        },
        "yaxis": {
         "anchor": "x",
         "domain": [
          0,
          1
         ],
         "title": {
          "text": "value"
         }
        }
       }
      }
     },
     "metadata": {},
     "output_type": "display_data"
    }
   ],
   "source": [
    "import plotly.express as px\n",
    "fin_df = fin_df.reset_index()\n",
    "px.bar(fin_df,x='id',y=['2017','2018','2019','2020'],barmode='group')"
   ]
  },
  {
   "cell_type": "code",
   "execution_count": 168,
   "metadata": {},
   "outputs": [],
   "source": [
    "shape_file = '/Users/gclyne/Downloads/RFCx_GQ_Shapefiles/Hulu_Batang_Hari_sites_Buffer1k.shp'\n",
    "shp_file = gpd.read_file('/Users/gclyne/Downloads/RFCx_GQ_Shapefiles/Hulu_Batang_Hari_sites_Buffer1k.shp', crs='EPSG:4326')\n",
    "folium.Map.add_ee_layer = add_ee_layer    \n",
    "file_name = shape_file.split('/')[-1].split('.')[0]  \n",
    "\n",
    "my_map = folium.Map(location=[region.getInfo()['coordinates'][0][0][1],region.getInfo()['coordinates'][0][0][0]], zoom_start=13, height=500)\n",
    "region = ee.Geometry.Polygon(shp_to_ee_fmt(shp_file,1))\n",
    "\n",
    "years = ['2017','2018','2019','2020','2021']\n",
    "for year_index in range(4):\n",
    "    dw = ee.ImageCollection('COPERNICUS/S2_HARMONIZED').filterDate(years[year_index],years[year_index+1]).filterBounds(region).filter(ee.Filter.lt('CLOUDY_PIXEL_PERCENTAGE', 20))\n",
    "    classification = ee.Image(dw.first()).clip(region) #here we use mode reduction, takes the most common pixel value over time period\n",
    "    s2VisParams = {'bands': ['B4', 'B3', 'B2'], 'min': 0, 'max': 3000}    \n",
    "    my_map.add_ee_layer(classification, s2VisParams, 'Classified Image')\n",
    "    my_map.save(file_name + str(year_index) + '_s2_copernicus_first_single_dw.html')\n",
    "\n"
   ]
  },
  {
   "cell_type": "code",
   "execution_count": 174,
   "metadata": {},
   "outputs": [],
   "source": [
    "shape_file = '/Users/gclyne/Downloads/RFCx_GQ_Shapefiles/Hulu_Batang_Hari_sites_Buffer1k.shp'\n",
    "shp_file = gpd.read_file('/Users/gclyne/Downloads/RFCx_GQ_Shapefiles/Hulu_Batang_Hari_sites_Buffer1k.shp', crs='EPSG:4326')\n",
    "folium.Map.add_ee_layer = add_ee_layer    \n",
    "file_name = shape_file.split('/')[-1].split('.')[0]  \n",
    "\n",
    "my_map = folium.Map(location=[region.getInfo()['coordinates'][0][0][1],region.getInfo()['coordinates'][0][0][0]], zoom_start=13, height=500)\n",
    "region = ee.Geometry.Polygon(shp_to_ee_fmt(shp_file,0))\n",
    "\n",
    "\n",
    "years = ['2017','2018','2019','2020','2021']\n",
    "for year_index in range(4):\n",
    "    dw = ee.ImageCollection('GOOGLE/DYNAMICWORLD/V1').filterDate(years[year_index],years[year_index+1]).filterBounds(region)\n",
    "    dwImage = ee.Image(dw.mode()).clip(region) #here we use mode reduction, takes the most common pixel value over time period\n",
    "    classification = dwImage.select('label')\n",
    "    dwVisParams = {'min': 0,'max': 8,'palette': ['#419BDF', '#397D49', '#88B053', '#7A87C6', '#E49635', '#DFC35A','#C4281B', '#A59B8F', '#B39FE1']}\n",
    "    my_map.add_ee_layer(classification, dwVisParams, 'Classified Image')\n",
    "    my_map.save(file_name + str(year_index) + '_mode_dw.html')"
   ]
  },
  {
   "cell_type": "code",
   "execution_count": 183,
   "metadata": {},
   "outputs": [
    {
     "name": "stdout",
     "output_type": "stream",
     "text": [
      "{'10': 3149578.9686274487, '20': 271, '30': 12277, '40': 1045}\n"
     ]
    }
   ],
   "source": [
    "shape_file = '/Users/gclyne/Downloads/RFCx_GQ_Shapefiles/Hulu_Batang_Hari_sites_Buffer1k.shp'\n",
    "shp_file = gpd.read_file('/Users/gclyne/Downloads/RFCx_GQ_Shapefiles/Hulu_Batang_Hari_sites_Buffer1k.shp', crs='EPSG:4326')\n",
    "folium.Map.add_ee_layer = add_ee_layer    \n",
    "file_name = shape_file.split('/')[-1].split('.')[0]\n",
    "\n",
    "my_map = folium.Map(location=[region.getInfo()['coordinates'][0][0][1],region.getInfo()['coordinates'][0][0][0]], zoom_start=13, height=500)\n",
    "region = ee.Geometry.Polygon(shp_to_ee_fmt(shp_file,20))\n",
    "\n",
    "\n",
    "dw = ee.ImageCollection('ESA/WorldCover/v100').first().clip(region)\n",
    "visualization = {'bands': ['Map']}\n",
    "my_map.add_ee_layer(dw, visualization, 'Classified Image')\n",
    "my_map.save(file_name + '_max_wc.html')\n",
    "\n",
    "dw = ee.ImageCollection('ESA/WorldCover/v100').filterBounds(region).first().clip(region)\n",
    "pixelCountStats = dw.reduceRegion(reducer=ee.Reducer.frequencyHistogram(),geometry=region,bestEffort=True,maxPixels=1e8,scale=1)\n",
    "print(pixelCountStats.getInfo()['Map'])"
   ]
  }
 ],
 "metadata": {
  "kernelspec": {
   "display_name": "Python 3.8.10 64-bit",
   "language": "python",
   "name": "python3"
  },
  "language_info": {
   "codemirror_mode": {
    "name": "ipython",
    "version": 3
   },
   "file_extension": ".py",
   "mimetype": "text/x-python",
   "name": "python",
   "nbconvert_exporter": "python",
   "pygments_lexer": "ipython3",
   "version": "3.9.1"
  },
  "orig_nbformat": 4,
  "vscode": {
   "interpreter": {
    "hash": "916dbcbb3f70747c44a77c7bcd40155683ae19c65e1c03b4aa3499c5328201f1"
   }
  }
 },
 "nbformat": 4,
 "nbformat_minor": 2
}
