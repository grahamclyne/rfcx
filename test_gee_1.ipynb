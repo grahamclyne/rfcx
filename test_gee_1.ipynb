{
 "cells": [
  {
   "cell_type": "code",
   "execution_count": 1,
   "metadata": {},
   "outputs": [
    {
     "data": {
      "text/html": [
       "<p>To authorize access needed by Earth Engine, open the following\n",
       "        URL in a web browser and follow the instructions:</p>\n",
       "        <p><a href=https://code.earthengine.google.com/client-auth?scopes=https%3A//www.googleapis.com/auth/earthengine%20https%3A//www.googleapis.com/auth/devstorage.full_control&request_id=rc0SyP-4YugDjiiisTMCu8rsVXKExykyM8xw14vjIkA&tc=tCEfq7sGC-UppYAK8jymLFPsJncmkeSWJf8tvyY7guA&cc=cptRkX2LXgV7y8m4XiMu94yC_zq7yR-kHBs9iSk22PM>https://code.earthengine.google.com/client-auth?scopes=https%3A//www.googleapis.com/auth/earthengine%20https%3A//www.googleapis.com/auth/devstorage.full_control&request_id=rc0SyP-4YugDjiiisTMCu8rsVXKExykyM8xw14vjIkA&tc=tCEfq7sGC-UppYAK8jymLFPsJncmkeSWJf8tvyY7guA&cc=cptRkX2LXgV7y8m4XiMu94yC_zq7yR-kHBs9iSk22PM</a></p>\n",
       "        <p>The authorization workflow will generate a code, which you\n",
       "        should paste in the box below</p>\n",
       "        "
      ],
      "text/plain": [
       "<IPython.core.display.HTML object>"
      ]
     },
     "metadata": {},
     "output_type": "display_data"
    },
    {
     "name": "stdout",
     "output_type": "stream",
     "text": [
      "\n",
      "Successfully saved authorization token.\n"
     ]
    }
   ],
   "source": [
    "import ee\n",
    "import numpy as np\n",
    "import folium\n",
    "try:     \n",
    "    ee.Initialize()\n",
    "except:\n",
    "    ee.Authenticate()\n",
    "    ee.Initialize()"
   ]
  },
  {
   "cell_type": "code",
   "execution_count": 2,
   "metadata": {},
   "outputs": [],
   "source": [
    "# Define a method for displaying Earth Engine image tiles on a folium map.\n",
    "def add_ee_layer(self, ee_object, vis_params, name):\n",
    "    try:    \n",
    "        # display ee.Image()\n",
    "        if isinstance(ee_object, ee.image.Image):    \n",
    "            map_id_dict = ee.Image(ee_object).getMapId(vis_params)\n",
    "            folium.raster_layers.TileLayer(\n",
    "            tiles = map_id_dict['tile_fetcher'].url_format,\n",
    "            attr = 'Google Earth Engine',\n",
    "            name = name,\n",
    "            overlay = True,\n",
    "            control = True\n",
    "            ).add_to(self)\n",
    "        # display ee.ImageCollection()\n",
    "        elif isinstance(ee_object, ee.imagecollection.ImageCollection):    \n",
    "            ee_object_new = ee_object.mosaic()\n",
    "            map_id_dict = ee.Image(ee_object_new).getMapId(vis_params)\n",
    "            folium.raster_layers.TileLayer(\n",
    "            tiles = map_id_dict['tile_fetcher'].url_format,\n",
    "            attr = 'Google Earth Engine',\n",
    "            name = name,\n",
    "            overlay = True,\n",
    "            control = True\n",
    "            ).add_to(self)\n",
    "        # display ee.Geometry()\n",
    "        elif isinstance(ee_object, ee.geometry.Geometry):    \n",
    "            folium.GeoJson(\n",
    "            data = ee_object.getInfo(),\n",
    "            name = name,\n",
    "            overlay = True,\n",
    "            control = True\n",
    "        ).add_to(self)\n",
    "        # display ee.FeatureCollection()\n",
    "        elif isinstance(ee_object, ee.featurecollection.FeatureCollection):  \n",
    "            ee_object_new = ee.Image().paint(ee_object, 0, 2)\n",
    "            map_id_dict = ee.Image(ee_object_new).getMapId(vis_params)\n",
    "            folium.raster_layers.TileLayer(\n",
    "            tiles = map_id_dict['tile_fetcher'].url_format,\n",
    "            attr = 'Google Earth Engine',\n",
    "            name = name,\n",
    "            overlay = True,\n",
    "            control = True\n",
    "        ).add_to(self)\n",
    "    except:\n",
    "        print(\"Could not display {}\".format(name))\n",
    "    \n",
    "# Add EE drawing method to folium.\n",
    "folium.Map.add_ee_layer = add_ee_layer    "
   ]
  },
  {
   "cell_type": "code",
   "execution_count": 15,
   "metadata": {},
   "outputs": [
    {
     "ename": "EEException",
     "evalue": "Image.select: Pattern 'label' did not match any bands.",
     "output_type": "error",
     "traceback": [
      "\u001b[0;31m---------------------------------------------------------------------------\u001b[0m",
      "\u001b[0;31mHttpError\u001b[0m                                 Traceback (most recent call last)",
      "File \u001b[0;32m~/.local/lib/python3.8/site-packages/ee/data.py:328\u001b[0m, in \u001b[0;36m_execute_cloud_call\u001b[0;34m(call, num_retries)\u001b[0m\n\u001b[1;32m    327\u001b[0m \u001b[39mtry\u001b[39;00m:\n\u001b[0;32m--> 328\u001b[0m   \u001b[39mreturn\u001b[39;00m call\u001b[39m.\u001b[39;49mexecute(num_retries\u001b[39m=\u001b[39;49mnum_retries)\n\u001b[1;32m    329\u001b[0m \u001b[39mexcept\u001b[39;00m googleapiclient\u001b[39m.\u001b[39merrors\u001b[39m.\u001b[39mHttpError \u001b[39mas\u001b[39;00m e:\n",
      "File \u001b[0;32m~/.local/lib/python3.8/site-packages/googleapiclient/_helpers.py:134\u001b[0m, in \u001b[0;36mpositional.<locals>.positional_decorator.<locals>.positional_wrapper\u001b[0;34m(*args, **kwargs)\u001b[0m\n\u001b[1;32m    133\u001b[0m         logger\u001b[39m.\u001b[39mwarning(message)\n\u001b[0;32m--> 134\u001b[0m \u001b[39mreturn\u001b[39;00m wrapped(\u001b[39m*\u001b[39;49margs, \u001b[39m*\u001b[39;49m\u001b[39m*\u001b[39;49mkwargs)\n",
      "File \u001b[0;32m~/.local/lib/python3.8/site-packages/googleapiclient/http.py:915\u001b[0m, in \u001b[0;36mHttpRequest.execute\u001b[0;34m(self, http, num_retries)\u001b[0m\n\u001b[1;32m    914\u001b[0m \u001b[39mif\u001b[39;00m resp\u001b[39m.\u001b[39mstatus \u001b[39m>\u001b[39m\u001b[39m=\u001b[39m \u001b[39m300\u001b[39m:\n\u001b[0;32m--> 915\u001b[0m     \u001b[39mraise\u001b[39;00m HttpError(resp, content, uri\u001b[39m=\u001b[39m\u001b[39mself\u001b[39m\u001b[39m.\u001b[39muri)\n\u001b[1;32m    916\u001b[0m \u001b[39mreturn\u001b[39;00m \u001b[39mself\u001b[39m\u001b[39m.\u001b[39mpostproc(resp, content)\n",
      "\u001b[0;31mHttpError\u001b[0m: <HttpError 400 when requesting https://earthengine.googleapis.com/v1alpha/projects/earthengine-legacy/value:compute?prettyPrint=false&alt=json returned \"Image.select: Pattern 'label' did not match any bands.\". Details: \"Image.select: Pattern 'label' did not match any bands.\">",
      "\nDuring handling of the above exception, another exception occurred:\n",
      "\u001b[0;31mEEException\u001b[0m                               Traceback (most recent call last)",
      "\u001b[1;32m/home/graham/code/rfcx/test_gee_1.ipynb Cellule 3\u001b[0m in \u001b[0;36m<cell line: 16>\u001b[0;34m()\u001b[0m\n\u001b[1;32m     <a href='vscode-notebook-cell:/home/graham/code/rfcx/test_gee_1.ipynb#ch0000002?line=23'>24</a>\u001b[0m total \u001b[39m=\u001b[39m classification\u001b[39m.\u001b[39mreduceRegion(reducer\u001b[39m=\u001b[39mee\u001b[39m.\u001b[39mReducer\u001b[39m.\u001b[39mcount(),geometry\u001b[39m=\u001b[39mshp_file,scale\u001b[39m=\u001b[39m\u001b[39m1\u001b[39m,maxPixels\u001b[39m=\u001b[39m \u001b[39m1e9\u001b[39m)\n\u001b[1;32m     <a href='vscode-notebook-cell:/home/graham/code/rfcx/test_gee_1.ipynb#ch0000002?line=24'>25</a>\u001b[0m pixelCounts \u001b[39m=\u001b[39m ee\u001b[39m.\u001b[39mDictionary(pixelCountStats\u001b[39m.\u001b[39mget(\u001b[39m'\u001b[39m\u001b[39mlabel\u001b[39m\u001b[39m'\u001b[39m))\n\u001b[0;32m---> <a href='vscode-notebook-cell:/home/graham/code/rfcx/test_gee_1.ipynb#ch0000002?line=25'>26</a>\u001b[0m output\u001b[39m.\u001b[39mappend(pixelCounts\u001b[39m.\u001b[39;49mgetInfo())\n\u001b[1;32m     <a href='vscode-notebook-cell:/home/graham/code/rfcx/test_gee_1.ipynb#ch0000002?line=26'>27</a>\u001b[0m totals\u001b[39m.\u001b[39mappend(total\u001b[39m.\u001b[39mgetInfo()[\u001b[39m'\u001b[39m\u001b[39mlabel\u001b[39m\u001b[39m'\u001b[39m])\n\u001b[1;32m     <a href='vscode-notebook-cell:/home/graham/code/rfcx/test_gee_1.ipynb#ch0000002?line=27'>28</a>\u001b[0m \u001b[39mprint\u001b[39m(output)\n",
      "File \u001b[0;32m~/.local/lib/python3.8/site-packages/ee/computedobject.py:98\u001b[0m, in \u001b[0;36mComputedObject.getInfo\u001b[0;34m(self)\u001b[0m\n\u001b[1;32m     92\u001b[0m \u001b[39mdef\u001b[39;00m \u001b[39mgetInfo\u001b[39m(\u001b[39mself\u001b[39m):\n\u001b[1;32m     93\u001b[0m   \u001b[39m\"\"\"Fetch and return information about this object.\u001b[39;00m\n\u001b[1;32m     94\u001b[0m \n\u001b[1;32m     95\u001b[0m \u001b[39m  Returns:\u001b[39;00m\n\u001b[1;32m     96\u001b[0m \u001b[39m    The object can evaluate to anything.\u001b[39;00m\n\u001b[1;32m     97\u001b[0m \u001b[39m  \"\"\"\u001b[39;00m\n\u001b[0;32m---> 98\u001b[0m   \u001b[39mreturn\u001b[39;00m data\u001b[39m.\u001b[39;49mcomputeValue(\u001b[39mself\u001b[39;49m)\n",
      "File \u001b[0;32m~/.local/lib/python3.8/site-packages/ee/data.py:738\u001b[0m, in \u001b[0;36mcomputeValue\u001b[0;34m(obj)\u001b[0m\n\u001b[1;32m    735\u001b[0m \u001b[39mif\u001b[39;00m workload_tag:\n\u001b[1;32m    736\u001b[0m   body[\u001b[39m'\u001b[39m\u001b[39mworkloadTag\u001b[39m\u001b[39m'\u001b[39m] \u001b[39m=\u001b[39m workload_tag\n\u001b[0;32m--> 738\u001b[0m \u001b[39mreturn\u001b[39;00m _execute_cloud_call(\n\u001b[1;32m    739\u001b[0m     _get_cloud_api_resource()\u001b[39m.\u001b[39;49mprojects()\u001b[39m.\u001b[39;49mvalue()\u001b[39m.\u001b[39;49mcompute(\n\u001b[1;32m    740\u001b[0m         body\u001b[39m=\u001b[39;49mbody,\n\u001b[1;32m    741\u001b[0m         project\u001b[39m=\u001b[39;49m_get_projects_path(),\n\u001b[1;32m    742\u001b[0m         prettyPrint\u001b[39m=\u001b[39;49m\u001b[39mFalse\u001b[39;49;00m))[\u001b[39m'\u001b[39m\u001b[39mresult\u001b[39m\u001b[39m'\u001b[39m]\n",
      "File \u001b[0;32m~/.local/lib/python3.8/site-packages/ee/data.py:330\u001b[0m, in \u001b[0;36m_execute_cloud_call\u001b[0;34m(call, num_retries)\u001b[0m\n\u001b[1;32m    328\u001b[0m   \u001b[39mreturn\u001b[39;00m call\u001b[39m.\u001b[39mexecute(num_retries\u001b[39m=\u001b[39mnum_retries)\n\u001b[1;32m    329\u001b[0m \u001b[39mexcept\u001b[39;00m googleapiclient\u001b[39m.\u001b[39merrors\u001b[39m.\u001b[39mHttpError \u001b[39mas\u001b[39;00m e:\n\u001b[0;32m--> 330\u001b[0m   \u001b[39mraise\u001b[39;00m _translate_cloud_exception(e)\n",
      "\u001b[0;31mEEException\u001b[0m: Image.select: Pattern 'label' did not match any bands."
     ]
    }
   ],
   "source": [
    "import geopandas as gpd\n",
    "import json\n",
    "\n",
    "shp_file = gpd.read_file('~/Downloads/RFCx_GQ_Shapefiles/Hulu_Batang_Hari_sites_Buffer1k.shp', crs='EPSG:4326')\n",
    "\n",
    "# define a helper function to put the geodataframe in the right format for constructing an ee object\n",
    "\n",
    "data = json.loads(shp_file.to_json())\n",
    "def shp_to_ee_fmt(geodf,index):\n",
    "    data = json.loads(geodf.to_json())\n",
    "    return data['features'][index]['geometry']['coordinates']\n",
    "shp_file = ee.Geometry.Polygon(shp_to_ee_fmt(shp_file,10))\n",
    "output = []\n",
    "totals =[]\n",
    "dates = [('2017-01-01','2017-12-31'), ('2018-01-01','2018-12-31'),('2019-01-01','2019-12-31'),('2020-01-01','2020-12-31'),('2021-01-01','2021-12-31')]\n",
    "for date in dates:     \n",
    "    start = date[0]\n",
    "    end = date[1]\n",
    "    dw = ee.ImageCollection('GOOGLE/DYNAMICWORLD/V1').filterDate(start,end).filterBounds(shp_file)\n",
    "    dwImage = ee.Image(dw.max()); #mode() returns most common pixel value\n",
    "    classification = dwImage.select('label').clip(shp_file)\n",
    "    # classification = classification.reduce(ee.Reducer.mode())\n",
    "    pixelCountStats = classification.reduceRegion(reducer=ee.Reducer.frequencyHistogram(),geometry=shp_file,scale=1,maxPixels= 1e9)\n",
    "    total = classification.reduceRegion(reducer=ee.Reducer.count(),geometry=shp_file,scale=1,maxPixels= 1e9)\n",
    "    pixelCounts = ee.Dictionary(pixelCountStats.get('label'))\n",
    "    output.append(pixelCounts.getInfo())\n",
    "    totals.append(total.getInfo()['label'])\n",
    "    print(output)\n"
   ]
  },
  {
   "cell_type": "code",
   "execution_count": 4,
   "metadata": {},
   "outputs": [
    {
     "ename": "EEException",
     "evalue": "Earth Engine client library not initialized. Run `ee.Initialize()`",
     "output_type": "error",
     "traceback": [
      "\u001b[0;31m---------------------------------------------------------------------------\u001b[0m",
      "\u001b[0;31mEEException\u001b[0m                               Traceback (most recent call last)",
      "\u001b[1;32m/home/graham/code/rfcx/test_gee_1.ipynb Cellule 4\u001b[0m in \u001b[0;36m<cell line: 2>\u001b[0;34m()\u001b[0m\n\u001b[1;32m      <a href='vscode-notebook-cell:/home/graham/code/rfcx/test_gee_1.ipynb#ch0000010?line=0'>1</a>\u001b[0m \u001b[39mimport\u001b[39;00m \u001b[39mee\u001b[39;00m\n\u001b[0;32m----> <a href='vscode-notebook-cell:/home/graham/code/rfcx/test_gee_1.ipynb#ch0000010?line=1'>2</a>\u001b[0m x \u001b[39m=\u001b[39m ee\u001b[39m.\u001b[39;49mDate(\u001b[39m'\u001b[39;49m\u001b[39m2021-01-01\u001b[39;49m\u001b[39m'\u001b[39;49m)\n\u001b[1;32m      <a href='vscode-notebook-cell:/home/graham/code/rfcx/test_gee_1.ipynb#ch0000010?line=2'>3</a>\u001b[0m y \u001b[39m=\u001b[39m x\u001b[39m.\u001b[39mformat(\u001b[39m'\u001b[39m\u001b[39mYYYY\u001b[39m\u001b[39m'\u001b[39m)[\u001b[39m2\u001b[39m:]\n",
      "File \u001b[0;32m~/.local/lib/python3.8/site-packages/ee/computedobject.py:32\u001b[0m, in \u001b[0;36mComputedObjectMetaclass.__call__\u001b[0;34m(cls, *args, **kwargs)\u001b[0m\n\u001b[1;32m     30\u001b[0m   \u001b[39mreturn\u001b[39;00m args[\u001b[39m0\u001b[39m]\n\u001b[1;32m     31\u001b[0m \u001b[39melse\u001b[39;00m:\n\u001b[0;32m---> 32\u001b[0m   \u001b[39mreturn\u001b[39;00m \u001b[39mtype\u001b[39;49m\u001b[39m.\u001b[39;49m\u001b[39m__call__\u001b[39;49m(\u001b[39mcls\u001b[39;49m, \u001b[39m*\u001b[39;49margs, \u001b[39m*\u001b[39;49m\u001b[39m*\u001b[39;49mkwargs)\n",
      "File \u001b[0;32m~/.local/lib/python3.8/site-packages/ee/ee_date.py:41\u001b[0m, in \u001b[0;36mDate.__init__\u001b[0;34m(self, date, opt_tz)\u001b[0m\n\u001b[1;32m     26\u001b[0m \u001b[39mdef\u001b[39;00m \u001b[39m__init__\u001b[39m(\u001b[39mself\u001b[39m, date, opt_tz\u001b[39m=\u001b[39m\u001b[39mNone\u001b[39;00m):\n\u001b[1;32m     27\u001b[0m   \u001b[39m\"\"\"Construct a date.\u001b[39;00m\n\u001b[1;32m     28\u001b[0m \n\u001b[1;32m     29\u001b[0m \u001b[39m  This sends all inputs (except another Date) through the Date function.\u001b[39;00m\n\u001b[0;32m   (...)\u001b[0m\n\u001b[1;32m     39\u001b[0m \u001b[39m    opt_tz: An optional timezone, only usable with a string date.\u001b[39;00m\n\u001b[1;32m     40\u001b[0m \u001b[39m  \"\"\"\u001b[39;00m\n\u001b[0;32m---> 41\u001b[0m   \u001b[39mself\u001b[39;49m\u001b[39m.\u001b[39;49minitialize()\n\u001b[1;32m     43\u001b[0m   func \u001b[39m=\u001b[39m apifunction\u001b[39m.\u001b[39mApiFunction(\u001b[39m'\u001b[39m\u001b[39mDate\u001b[39m\u001b[39m'\u001b[39m)\n\u001b[1;32m     44\u001b[0m   args \u001b[39m=\u001b[39m \u001b[39mNone\u001b[39;00m\n",
      "File \u001b[0;32m~/.local/lib/python3.8/site-packages/ee/ee_date.py:77\u001b[0m, in \u001b[0;36mDate.initialize\u001b[0;34m(cls)\u001b[0m\n\u001b[1;32m     75\u001b[0m \u001b[39m\"\"\"Imports API functions to this class.\"\"\"\u001b[39;00m\n\u001b[1;32m     76\u001b[0m \u001b[39mif\u001b[39;00m \u001b[39mnot\u001b[39;00m \u001b[39mcls\u001b[39m\u001b[39m.\u001b[39m_initialized:\n\u001b[0;32m---> 77\u001b[0m   apifunction\u001b[39m.\u001b[39;49mApiFunction\u001b[39m.\u001b[39;49mimportApi(\u001b[39mcls\u001b[39;49m, \u001b[39m'\u001b[39;49m\u001b[39mDate\u001b[39;49m\u001b[39m'\u001b[39;49m, \u001b[39m'\u001b[39;49m\u001b[39mDate\u001b[39;49m\u001b[39m'\u001b[39;49m)\n\u001b[1;32m     78\u001b[0m   \u001b[39mcls\u001b[39m\u001b[39m.\u001b[39m_initialized \u001b[39m=\u001b[39m \u001b[39mTrue\u001b[39;00m\n",
      "File \u001b[0;32m~/.local/lib/python3.8/site-packages/ee/apifunction.py:183\u001b[0m, in \u001b[0;36mApiFunction.importApi\u001b[0;34m(cls, target, prefix, type_name, opt_prepend)\u001b[0m\n\u001b[1;32m    170\u001b[0m \u001b[39m@classmethod\u001b[39m\n\u001b[1;32m    171\u001b[0m \u001b[39mdef\u001b[39;00m \u001b[39mimportApi\u001b[39m(\u001b[39mcls\u001b[39m, target, prefix, type_name, opt_prepend\u001b[39m=\u001b[39m\u001b[39mNone\u001b[39;00m):\n\u001b[1;32m    172\u001b[0m   \u001b[39m\"\"\"Adds all API functions that begin with a given prefix to a target class.\u001b[39;00m\n\u001b[1;32m    173\u001b[0m \n\u001b[1;32m    174\u001b[0m \u001b[39m  Args:\u001b[39;00m\n\u001b[0;32m   (...)\u001b[0m\n\u001b[1;32m    181\u001b[0m \u001b[39m        added functions.\u001b[39;00m\n\u001b[1;32m    182\u001b[0m \u001b[39m  \"\"\"\u001b[39;00m\n\u001b[0;32m--> 183\u001b[0m   \u001b[39mcls\u001b[39;49m\u001b[39m.\u001b[39;49minitialize()\n\u001b[1;32m    184\u001b[0m   prepend \u001b[39m=\u001b[39m opt_prepend \u001b[39mor\u001b[39;00m \u001b[39m'\u001b[39m\u001b[39m'\u001b[39m\n\u001b[1;32m    185\u001b[0m   \u001b[39mfor\u001b[39;00m name, api_func \u001b[39min\u001b[39;00m \u001b[39mcls\u001b[39m\u001b[39m.\u001b[39m_api\u001b[39m.\u001b[39mitems():\n",
      "File \u001b[0;32m~/.local/lib/python3.8/site-packages/ee/apifunction.py:154\u001b[0m, in \u001b[0;36mApiFunction.initialize\u001b[0;34m(cls)\u001b[0m\n\u001b[1;32m    152\u001b[0m \u001b[39m\"\"\"Initializes the list of signatures from the Earth Engine front-end.\"\"\"\u001b[39;00m\n\u001b[1;32m    153\u001b[0m \u001b[39mif\u001b[39;00m \u001b[39mnot\u001b[39;00m \u001b[39mcls\u001b[39m\u001b[39m.\u001b[39m_api:\n\u001b[0;32m--> 154\u001b[0m   signatures \u001b[39m=\u001b[39m data\u001b[39m.\u001b[39;49mgetAlgorithms()\n\u001b[1;32m    155\u001b[0m   api \u001b[39m=\u001b[39m {}\n\u001b[1;32m    156\u001b[0m   \u001b[39mfor\u001b[39;00m name, sig \u001b[39min\u001b[39;00m signatures\u001b[39m.\u001b[39mitems():\n\u001b[1;32m    157\u001b[0m     \u001b[39m# Strip type parameters.\u001b[39;00m\n",
      "File \u001b[0;32m~/.local/lib/python3.8/site-packages/ee/data.py:1058\u001b[0m, in \u001b[0;36mgetAlgorithms\u001b[0;34m()\u001b[0m\n\u001b[1;32m   1042\u001b[0m \u001b[39m\"\"\"Get the list of algorithms.\u001b[39;00m\n\u001b[1;32m   1043\u001b[0m \n\u001b[1;32m   1044\u001b[0m \u001b[39mReturns:\u001b[39;00m\n\u001b[0;32m   (...)\u001b[0m\n\u001b[1;32m   1055\u001b[0m \u001b[39m              is not specified.\u001b[39;00m\n\u001b[1;32m   1056\u001b[0m \u001b[39m\"\"\"\u001b[39;00m\n\u001b[1;32m   1057\u001b[0m \u001b[39mtry\u001b[39;00m:\n\u001b[0;32m-> 1058\u001b[0m   call \u001b[39m=\u001b[39m _get_cloud_api_resource()\u001b[39m.\u001b[39mprojects()\u001b[39m.\u001b[39malgorithms()\u001b[39m.\u001b[39mlist(\n\u001b[1;32m   1059\u001b[0m       parent\u001b[39m=\u001b[39m_get_projects_path(), prettyPrint\u001b[39m=\u001b[39m\u001b[39mFalse\u001b[39;00m)\n\u001b[1;32m   1060\u001b[0m \u001b[39mexcept\u001b[39;00m \u001b[39mTypeError\u001b[39;00m:\n\u001b[1;32m   1061\u001b[0m   call \u001b[39m=\u001b[39m _get_cloud_api_resource()\u001b[39m.\u001b[39mprojects()\u001b[39m.\u001b[39malgorithms()\u001b[39m.\u001b[39mlist(\n\u001b[1;32m   1062\u001b[0m       project\u001b[39m=\u001b[39m_get_projects_path(), prettyPrint\u001b[39m=\u001b[39m\u001b[39mFalse\u001b[39;00m)\n",
      "File \u001b[0;32m~/.local/lib/python3.8/site-packages/ee/data.py:282\u001b[0m, in \u001b[0;36m_get_cloud_api_resource\u001b[0;34m()\u001b[0m\n\u001b[1;32m    280\u001b[0m \u001b[39mdef\u001b[39;00m \u001b[39m_get_cloud_api_resource\u001b[39m():\n\u001b[1;32m    281\u001b[0m   \u001b[39mif\u001b[39;00m _cloud_api_resource \u001b[39mis\u001b[39;00m \u001b[39mNone\u001b[39;00m:\n\u001b[0;32m--> 282\u001b[0m     \u001b[39mraise\u001b[39;00m ee_exception\u001b[39m.\u001b[39mEEException(\n\u001b[1;32m    283\u001b[0m         \u001b[39m'\u001b[39m\u001b[39mEarth Engine client library not initialized. Run `ee.Initialize()`\u001b[39m\u001b[39m'\u001b[39m)\n\u001b[1;32m    284\u001b[0m   \u001b[39mreturn\u001b[39;00m _cloud_api_resource\n",
      "\u001b[0;31mEEException\u001b[0m: Earth Engine client library not initialized. Run `ee.Initialize()`"
     ]
    }
   ],
   "source": []
  },
  {
   "cell_type": "code",
   "execution_count": 8,
   "metadata": {},
   "outputs": [
    {
     "data": {
      "text/plain": [
       "[{'1': 3125096.8509803903,\n",
       "  '5': 400,\n",
       "  '6': 14365.462745098039,\n",
       "  '7': 281.9960784313725,\n",
       "  '8': 23127.203921568624},\n",
       " {'1': 2984500.7098039193,\n",
       "  '2': 16156.93725490196,\n",
       "  '4': 2058,\n",
       "  '5': 200,\n",
       "  '6': 74298.57647058825,\n",
       "  '7': 3800,\n",
       "  '8': 82257.29019607845},\n",
       " {'1': 2664012.647058821,\n",
       "  '2': 2030,\n",
       "  '4': 471218.2901960794,\n",
       "  '5': 565.372549019608,\n",
       "  '6': 4301.101960784314,\n",
       "  '8': 21144.10196078431},\n",
       " {'1': 2681296.8745098035,\n",
       "  '2': 100,\n",
       "  '6': 69980.08627450981,\n",
       "  '7': 11325,\n",
       "  '8': 235231.5294117647},\n",
       " {'1': 3013259.309803919,\n",
       "  '2': 1010,\n",
       "  '4': 2766.4470588235304,\n",
       "  '5': 7270,\n",
       "  '6': 79291.75686274511,\n",
       "  '7': 1000,\n",
       "  '8': 58674},\n",
       " {'1': 2465013.141176471,\n",
       "  '2': 2409,\n",
       "  '4': 565554.6235294112,\n",
       "  '5': 301,\n",
       "  '6': 96709.49803921567,\n",
       "  '8': 33284.250980392164}]"
      ]
     },
     "execution_count": 8,
     "metadata": {},
     "output_type": "execute_result"
    }
   ],
   "source": [
    "output"
   ]
  },
  {
   "cell_type": "code",
   "execution_count": 5,
   "metadata": {},
   "outputs": [
    {
     "ename": "NameError",
     "evalue": "name 'dd' is not defined",
     "output_type": "error",
     "traceback": [
      "\u001b[0;31m---------------------------------------------------------------------------\u001b[0m",
      "\u001b[0;31mNameError\u001b[0m                                 Traceback (most recent call last)",
      "\u001b[1;32m/home/graham/code/rfcx/test_gee_1.ipynb Cellule 6\u001b[0m in \u001b[0;36m<cell line: 3>\u001b[0;34m()\u001b[0m\n\u001b[1;32m      <a href='vscode-notebook-cell:/home/graham/code/rfcx/test_gee_1.ipynb#ch0000004?line=0'>1</a>\u001b[0m \u001b[39mimport\u001b[39;00m \u001b[39mseaborn\u001b[39;00m \u001b[39mas\u001b[39;00m \u001b[39msns\u001b[39;00m\n\u001b[0;32m----> <a href='vscode-notebook-cell:/home/graham/code/rfcx/test_gee_1.ipynb#ch0000004?line=2'>3</a>\u001b[0m sns\u001b[39m.\u001b[39mlineplot(data\u001b[39m=\u001b[39mdd,markers\u001b[39m=\u001b[39m\u001b[39mTrue\u001b[39;00m,dashes\u001b[39m=\u001b[39m\u001b[39mFalse\u001b[39;00m)\n",
      "\u001b[0;31mNameError\u001b[0m: name 'dd' is not defined"
     ]
    }
   ],
   "source": [
    "import seaborn as sns\n",
    "\n",
    "sns.lineplot(data=dd,markers=True,dashes=False)"
   ]
  },
  {
   "cell_type": "code",
   "execution_count": 6,
   "metadata": {},
   "outputs": [
    {
     "name": "stdout",
     "output_type": "stream",
     "text": [
      "[{'1': 3125096.8509803903, '5': 400, '6': 14365.462745098039, '7': 281.9960784313725, '8': 23127.203921568624}, {'1': 2984500.7098039193, '2': 16156.93725490196, '4': 2058, '5': 200, '6': 74298.57647058825, '7': 3800, '8': 82257.29019607845}, {'1': 2664012.647058821, '2': 2030, '4': 471218.2901960794, '5': 565.372549019608, '6': 4301.101960784314, '8': 21144.10196078431}, {'1': 2681296.8745098035, '2': 100, '6': 69980.08627450981, '7': 11325, '8': 235231.5294117647}, {'1': 3013259.309803919, '2': 1010, '4': 2766.4470588235304, '5': 7270, '6': 79291.75686274511, '7': 1000, '8': 58674}, {'1': 2465013.141176471, '2': 2409, '4': 565554.6235294112, '5': 301, '6': 96709.49803921567, '8': 33284.250980392164}]\n"
     ]
    }
   ],
   "source": [
    "from collections import defaultdict\n",
    "\n",
    "print(output)\n",
    "dd = defaultdict(lambda: np.zeros(0))\n",
    "\n",
    "for d in (output): # you can list as many input dicts as you want here\n",
    "    for index in range(0,9):\n",
    "        key = str(index)\n",
    "        if(key not in d.keys()):\n",
    "            dd[key] = np.append(dd[key],0)\n",
    "        else:\n",
    "            dd[key] = np.append(dd[key],d[key])\n",
    "for i in range(0,9):\n",
    "    dd[str(i)] = dd[str(i)] / totals"
   ]
  },
  {
   "cell_type": "code",
   "execution_count": null,
   "metadata": {},
   "outputs": [],
   "source": [
    "from collections import defaultdict\n",
    "\n",
    "def get_region_pixel_classes(shp_file,index):\n",
    "    shp_file = ee.Geometry.Polygon(shp_to_ee_fmt(shp_file,index))\n",
    "    output = []\n",
    "    totals =[]\n",
    "    dates = [('2017-01-01','2017-12-31'), ('2018-01-01','2018-12-31'),('2019-01-01','2019-12-31'),('2020-01-01','2020-12-31'),('2021-01-01','2021-12-31'),('2022-01-01','2022-06-30')]\n",
    "    for date in dates:     \n",
    "        start = date[0]\n",
    "        end = date[1]\n",
    "        dw = ee.ImageCollection('GOOGLE/DYNAMICWORLD/V1').filterDate(start,end).filterBounds(shp_file)\n",
    "        dwImage = ee.Image(dw.mode()).clip(shp_file); #mode() returns most common pixel value\n",
    "        classification = dwImage.select('label');\n",
    "        # classification = classification.reduce(ee.Reducer.mode());\n",
    "        pixelCountStats = classification.reduceRegion(reducer=ee.Reducer.frequencyHistogram().unweighted(),geometry=shp_file,scale=1,maxPixels= 1e9)\n",
    "        total = classification.reduceRegion(reducer=ee.Reducer.count(),geometry=shp_file,scale=1,maxPixels= 1e9)\n",
    "        pixelCounts = ee.Dictionary(pixelCountStats.get('label'))\n",
    "        output.append(pixelCounts.getInfo())\n",
    "        totals.append(total.getInfo()['label'])\n",
    "    dd = defaultdict(lambda: np.zeros(0))\n",
    "    for d in (output): # you can list as many input dicts as you want here\n",
    "        for index in range(0,9):\n",
    "            key = str(index)\n",
    "            if(key not in d.keys()):\n",
    "                dd[key] = np.append(dd[key],0)\n",
    "            else:\n",
    "                dd[key] = np.append(dd[key],d[key])\n",
    "    for i in range(0,9):\n",
    "        dd[str(i)] = dd[str(i)] / totals\n",
    "    return dd"
   ]
  },
  {
   "cell_type": "code",
   "execution_count": 18,
   "metadata": {},
   "outputs": [
    {
     "data": {
      "text/html": [
       "<div style=\"width:100%;\"><div style=\"position:relative;width:100%;height:0;padding-bottom:60%;\"><span style=\"color:#565656\">Make this Notebook Trusted to load map: File -> Trust Notebook</span><iframe src=\"about:blank\" style=\"position:absolute;width:100%;height:100%;left:0;top:0;border:none !important;\" data-html=%3C%21DOCTYPE%20html%3E%0A%3Chead%3E%20%20%20%20%0A%20%20%20%20%3Cmeta%20http-equiv%3D%22content-type%22%20content%3D%22text/html%3B%20charset%3DUTF-8%22%20/%3E%0A%20%20%20%20%0A%20%20%20%20%20%20%20%20%3Cscript%3E%0A%20%20%20%20%20%20%20%20%20%20%20%20L_NO_TOUCH%20%3D%20false%3B%0A%20%20%20%20%20%20%20%20%20%20%20%20L_DISABLE_3D%20%3D%20false%3B%0A%20%20%20%20%20%20%20%20%3C/script%3E%0A%20%20%20%20%0A%20%20%20%20%3Cstyle%3Ehtml%2C%20body%20%7Bwidth%3A%20100%25%3Bheight%3A%20100%25%3Bmargin%3A%200%3Bpadding%3A%200%3B%7D%3C/style%3E%0A%20%20%20%20%3Cstyle%3E%23map%20%7Bposition%3Aabsolute%3Btop%3A0%3Bbottom%3A0%3Bright%3A0%3Bleft%3A0%3B%7D%3C/style%3E%0A%20%20%20%20%3Cscript%20src%3D%22https%3A//cdn.jsdelivr.net/npm/leaflet%401.6.0/dist/leaflet.js%22%3E%3C/script%3E%0A%20%20%20%20%3Cscript%20src%3D%22https%3A//code.jquery.com/jquery-1.12.4.min.js%22%3E%3C/script%3E%0A%20%20%20%20%3Cscript%20src%3D%22https%3A//maxcdn.bootstrapcdn.com/bootstrap/3.2.0/js/bootstrap.min.js%22%3E%3C/script%3E%0A%20%20%20%20%3Cscript%20src%3D%22https%3A//cdnjs.cloudflare.com/ajax/libs/Leaflet.awesome-markers/2.0.2/leaflet.awesome-markers.js%22%3E%3C/script%3E%0A%20%20%20%20%3Clink%20rel%3D%22stylesheet%22%20href%3D%22https%3A//cdn.jsdelivr.net/npm/leaflet%401.6.0/dist/leaflet.css%22/%3E%0A%20%20%20%20%3Clink%20rel%3D%22stylesheet%22%20href%3D%22https%3A//maxcdn.bootstrapcdn.com/bootstrap/3.2.0/css/bootstrap.min.css%22/%3E%0A%20%20%20%20%3Clink%20rel%3D%22stylesheet%22%20href%3D%22https%3A//maxcdn.bootstrapcdn.com/bootstrap/3.2.0/css/bootstrap-theme.min.css%22/%3E%0A%20%20%20%20%3Clink%20rel%3D%22stylesheet%22%20href%3D%22https%3A//maxcdn.bootstrapcdn.com/font-awesome/4.6.3/css/font-awesome.min.css%22/%3E%0A%20%20%20%20%3Clink%20rel%3D%22stylesheet%22%20href%3D%22https%3A//cdnjs.cloudflare.com/ajax/libs/Leaflet.awesome-markers/2.0.2/leaflet.awesome-markers.css%22/%3E%0A%20%20%20%20%3Clink%20rel%3D%22stylesheet%22%20href%3D%22https%3A//cdn.jsdelivr.net/gh/python-visualization/folium/folium/templates/leaflet.awesome.rotate.min.css%22/%3E%0A%20%20%20%20%0A%20%20%20%20%20%20%20%20%20%20%20%20%3Cmeta%20name%3D%22viewport%22%20content%3D%22width%3Ddevice-width%2C%0A%20%20%20%20%20%20%20%20%20%20%20%20%20%20%20%20initial-scale%3D1.0%2C%20maximum-scale%3D1.0%2C%20user-scalable%3Dno%22%20/%3E%0A%20%20%20%20%20%20%20%20%20%20%20%20%3Cstyle%3E%0A%20%20%20%20%20%20%20%20%20%20%20%20%20%20%20%20%23map_3c8a5308753d43b9b2aa85c49c59ac93%20%7B%0A%20%20%20%20%20%20%20%20%20%20%20%20%20%20%20%20%20%20%20%20position%3A%20relative%3B%0A%20%20%20%20%20%20%20%20%20%20%20%20%20%20%20%20%20%20%20%20width%3A%20100.0%25%3B%0A%20%20%20%20%20%20%20%20%20%20%20%20%20%20%20%20%20%20%20%20height%3A%20500.0px%3B%0A%20%20%20%20%20%20%20%20%20%20%20%20%20%20%20%20%20%20%20%20left%3A%200.0%25%3B%0A%20%20%20%20%20%20%20%20%20%20%20%20%20%20%20%20%20%20%20%20top%3A%200.0%25%3B%0A%20%20%20%20%20%20%20%20%20%20%20%20%20%20%20%20%7D%0A%20%20%20%20%20%20%20%20%20%20%20%20%3C/style%3E%0A%20%20%20%20%20%20%20%20%0A%3C/head%3E%0A%3Cbody%3E%20%20%20%20%0A%20%20%20%20%0A%20%20%20%20%20%20%20%20%20%20%20%20%3Cdiv%20class%3D%22folium-map%22%20id%3D%22map_3c8a5308753d43b9b2aa85c49c59ac93%22%20%3E%3C/div%3E%0A%20%20%20%20%20%20%20%20%0A%3C/body%3E%0A%3Cscript%3E%20%20%20%20%0A%20%20%20%20%0A%20%20%20%20%20%20%20%20%20%20%20%20var%20map_3c8a5308753d43b9b2aa85c49c59ac93%20%3D%20L.map%28%0A%20%20%20%20%20%20%20%20%20%20%20%20%20%20%20%20%22map_3c8a5308753d43b9b2aa85c49c59ac93%22%2C%0A%20%20%20%20%20%20%20%20%20%20%20%20%20%20%20%20%7B%0A%20%20%20%20%20%20%20%20%20%20%20%20%20%20%20%20%20%20%20%20center%3A%20%5B-1.4005263598304163%2C%20101.0335%5D%2C%0A%20%20%20%20%20%20%20%20%20%20%20%20%20%20%20%20%20%20%20%20crs%3A%20L.CRS.EPSG3857%2C%0A%20%20%20%20%20%20%20%20%20%20%20%20%20%20%20%20%20%20%20%20zoom%3A%2013%2C%0A%20%20%20%20%20%20%20%20%20%20%20%20%20%20%20%20%20%20%20%20zoomControl%3A%20true%2C%0A%20%20%20%20%20%20%20%20%20%20%20%20%20%20%20%20%20%20%20%20preferCanvas%3A%20false%2C%0A%20%20%20%20%20%20%20%20%20%20%20%20%20%20%20%20%7D%0A%20%20%20%20%20%20%20%20%20%20%20%20%29%3B%0A%0A%20%20%20%20%20%20%20%20%20%20%20%20%0A%0A%20%20%20%20%20%20%20%20%0A%20%20%20%20%0A%20%20%20%20%20%20%20%20%20%20%20%20var%20tile_layer_797cd142ddf24d7c8159d89bb5b484ae%20%3D%20L.tileLayer%28%0A%20%20%20%20%20%20%20%20%20%20%20%20%20%20%20%20%22https%3A//%7Bs%7D.tile.openstreetmap.org/%7Bz%7D/%7Bx%7D/%7By%7D.png%22%2C%0A%20%20%20%20%20%20%20%20%20%20%20%20%20%20%20%20%7B%22attribution%22%3A%20%22Data%20by%20%5Cu0026copy%3B%20%5Cu003ca%20href%3D%5C%22http%3A//openstreetmap.org%5C%22%5Cu003eOpenStreetMap%5Cu003c/a%5Cu003e%2C%20under%20%5Cu003ca%20href%3D%5C%22http%3A//www.openstreetmap.org/copyright%5C%22%5Cu003eODbL%5Cu003c/a%5Cu003e.%22%2C%20%22detectRetina%22%3A%20false%2C%20%22maxNativeZoom%22%3A%2018%2C%20%22maxZoom%22%3A%2018%2C%20%22minZoom%22%3A%200%2C%20%22noWrap%22%3A%20false%2C%20%22opacity%22%3A%201%2C%20%22subdomains%22%3A%20%22abc%22%2C%20%22tms%22%3A%20false%7D%0A%20%20%20%20%20%20%20%20%20%20%20%20%29.addTo%28map_3c8a5308753d43b9b2aa85c49c59ac93%29%3B%0A%20%20%20%20%20%20%20%20%0A%20%20%20%20%0A%20%20%20%20%20%20%20%20%20%20%20%20var%20tile_layer_4ba5d06404bb43df84443f50aa143ab5%20%3D%20L.tileLayer%28%0A%20%20%20%20%20%20%20%20%20%20%20%20%20%20%20%20%22https%3A//earthengine.googleapis.com/v1alpha/projects/earthengine-legacy/maps/bc088e275a4f313c1692b3510b6d391b-8763313628d303aea5166f332e14ff99/tiles/%7Bz%7D/%7Bx%7D/%7By%7D%22%2C%0A%20%20%20%20%20%20%20%20%20%20%20%20%20%20%20%20%7B%22attribution%22%3A%20%22Google%20Earth%20Engine%22%2C%20%22detectRetina%22%3A%20false%2C%20%22maxNativeZoom%22%3A%2018%2C%20%22maxZoom%22%3A%2018%2C%20%22minZoom%22%3A%200%2C%20%22noWrap%22%3A%20false%2C%20%22opacity%22%3A%201%2C%20%22subdomains%22%3A%20%22abc%22%2C%20%22tms%22%3A%20false%7D%0A%20%20%20%20%20%20%20%20%20%20%20%20%29.addTo%28map_3c8a5308753d43b9b2aa85c49c59ac93%29%3B%0A%20%20%20%20%20%20%20%20%0A%20%20%20%20%0A%20%20%20%20%20%20%20%20%20%20%20%20var%20tile_layer_8aac6daf81794325b875979d4981dfca%20%3D%20L.tileLayer%28%0A%20%20%20%20%20%20%20%20%20%20%20%20%20%20%20%20%22https%3A//earthengine.googleapis.com/v1alpha/projects/earthengine-legacy/maps/423ad80fd1f0e5357e8dbe6465ec583f-12cca2e50503b22c0bd0e0e2ae1865f1/tiles/%7Bz%7D/%7Bx%7D/%7By%7D%22%2C%0A%20%20%20%20%20%20%20%20%20%20%20%20%20%20%20%20%7B%22attribution%22%3A%20%22Google%20Earth%20Engine%22%2C%20%22detectRetina%22%3A%20false%2C%20%22maxNativeZoom%22%3A%2018%2C%20%22maxZoom%22%3A%2018%2C%20%22minZoom%22%3A%200%2C%20%22noWrap%22%3A%20false%2C%20%22opacity%22%3A%201%2C%20%22subdomains%22%3A%20%22abc%22%2C%20%22tms%22%3A%20false%7D%0A%20%20%20%20%20%20%20%20%20%20%20%20%29.addTo%28map_3c8a5308753d43b9b2aa85c49c59ac93%29%3B%0A%20%20%20%20%20%20%20%20%0A%3C/script%3E onload=\"this.contentDocument.open();this.contentDocument.write(    decodeURIComponent(this.getAttribute('data-html')));this.contentDocument.close();\" allowfullscreen webkitallowfullscreen mozallowfullscreen></iframe></div></div>"
      ],
      "text/plain": [
       "<folium.folium.Map at 0x7f6eb8698910>"
      ]
     },
     "metadata": {},
     "output_type": "display_data"
    }
   ],
   "source": [
    "#TO DISPLAY IMAGE\n",
    "startDate = '2020-01-01'\n",
    "endDate = '2020-12-31'\n",
    "import geopandas as gpd\n",
    "import json\n",
    "\n",
    "shp_file = gpd.read_file('~/Downloads/RFCx_GQ_Shapefiles/Hulu_Batang_Hari_sites_Buffer1k.shp', crs='EPSG:4326')\n",
    "\n",
    "# define a helper function to put the geodataframe in the right format for constructing an ee object\n",
    "def shp_to_ee_fmt(geodf,index):\n",
    "    data = json.loads(geodf.to_json())\n",
    "    return data['features'][index]['geometry']['coordinates']\n",
    "\n",
    "\n",
    "# create the ee object\n",
    "shp_file = ee.Geometry.Polygon(shp_to_ee_fmt(shp_file,10))\n",
    "\n",
    "s2 = ee.ImageCollection('COPERNICUS/S2_HARMONIZED').filterDate(startDate, endDate)\\\n",
    "            .filterBounds(shp_file).filter(ee.Filter.lt('CLOUDY_PIXEL_PERCENTAGE', 20))\n",
    "\n",
    "s2Image = ee.Image(s2.mosaic())\n",
    "s2VisParams = {'bands': ['B4', 'B3', 'B2'], 'min': 0, 'max': 3000}\n",
    "my_map = folium.Map(location=[shp_file.getInfo()['coordinates'][0][0][1],shp_file.getInfo()['coordinates'][0][0][0]], zoom_start=13, height=500)\n",
    "my_map.add_ee_layer(s2Image, s2VisParams, 'sentinel-2 image')\n",
    "\n",
    "# imageId = s2Image.get('system:index')\n",
    "# dw = ee.ImageCollection('GOOGLE/DYNAMICWORLD/V1').filter(ee.Filter.eq('system:index', imageId));\n",
    "dw = ee.ImageCollection('GOOGLE/DYNAMICWORLD/V1').filterDate(startDate,endDate).filterBounds(shp_file)\n",
    "dwImage = ee.Image(dw.mode()).clip(shp_file);\n",
    "classification = dwImage.select('label');\n",
    "dwVisParams = {\n",
    "  'min': 0,\n",
    "  'max': 8,\n",
    "  'palette': [\n",
    "    '#419BDF', '#397D49', '#88B053', '#7A87C6', '#E49635', '#DFC35A',\n",
    "    '#C4281B', '#A59B8F', '#B39FE1'\n",
    "  ]\n",
    "};\n",
    "my_map.add_ee_layer(classification, dwVisParams, 'Classified Image');\n",
    "\n",
    "display(my_map)"
   ]
  }
 ],
 "metadata": {
  "kernelspec": {
   "display_name": "Python 3.8.10 64-bit",
   "language": "python",
   "name": "python3"
  },
  "language_info": {
   "codemirror_mode": {
    "name": "ipython",
    "version": 3
   },
   "file_extension": ".py",
   "mimetype": "text/x-python",
   "name": "python",
   "nbconvert_exporter": "python",
   "pygments_lexer": "ipython3",
   "version": "3.8.10"
  },
  "orig_nbformat": 4,
  "vscode": {
   "interpreter": {
    "hash": "916dbcbb3f70747c44a77c7bcd40155683ae19c65e1c03b4aa3499c5328201f1"
   }
  }
 },
 "nbformat": 4,
 "nbformat_minor": 2
}
